{
 "cells": [
  {
   "cell_type": "code",
   "execution_count": 1,
   "metadata": {
    "collapsed": true
   },
   "outputs": [],
   "source": [
    "import os\n",
    "import sys\n",
    "import pickle\n",
    "import numpy as np\n",
    "import scipy as sc\n",
    "from subprocess import call\n",
    "import matplotlib.pyplot as plt\n",
    "%matplotlib inline"
   ]
  },
  {
   "cell_type": "code",
   "execution_count": 2,
   "metadata": {
    "collapsed": true
   },
   "outputs": [],
   "source": [
    "from __future__ import print_function\n",
    "import argparse\n",
    "import torch\n",
    "import torch.nn as nn\n",
    "import torch.nn.functional as F\n",
    "import torch.optim as optim\n",
    "from torchvision import datasets, transforms\n",
    "from torch.autograd import Variable, grad\n",
    "import time\n",
    "import numpy as np"
   ]
  },
  {
   "cell_type": "code",
   "execution_count": 3,
   "metadata": {
    "collapsed": true
   },
   "outputs": [],
   "source": [
    "batch_size = 64\n",
    "data_length = batch_size*256\n",
    "epochs = 100\n",
    "seed = 1\n",
    "lr = 0.001\n",
    "momentum = 0.5\n",
    "log_interval = 10\n",
    "PATH = \"model\" # model path\n",
    "cuda = torch.cuda.is_available()\n",
    "\n",
    "if cuda:\n",
    "    torch.cuda.manual_seed(seed)"
   ]
  },
  {
   "cell_type": "raw",
   "metadata": {
    "collapsed": true
   },
   "source": [
    "def get_batch(n):\n",
    "    # create some data\n",
    "    X = np.linspace(-1, 1, n)\n",
    "    np.random.shuffle(X)    # randomize the data\n",
    "    Y = 0.5 * X + 2 + np.random.normal(0, 0.05, (n, ))\n",
    "    X = torch.from_numpy(X).unsqueeze(1).float()\n",
    "    Y = torch.from_numpy(Y).unsqueeze(1).float()\n",
    "    return X, Y"
   ]
  },
  {
   "cell_type": "code",
   "execution_count": 4,
   "metadata": {
    "collapsed": true
   },
   "outputs": [],
   "source": [
    "def get_batch(n):\n",
    "    # create some data\n",
    "    X = np.random.rand(batch_size)\n",
    "    np.random.shuffle(X)    # randomize the data\n",
    "    Y = np.sin(5*np.pi*X)/(5*np.pi*X)\n",
    "    X = torch.from_numpy(X).unsqueeze(1).float()\n",
    "    Y = torch.from_numpy(Y).unsqueeze(1).float()\n",
    "    return X, Y"
   ]
  },
  {
   "cell_type": "raw",
   "metadata": {},
   "source": [
    "X, Y = [], []\n",
    "for i in range(256):\n",
    "    x, y = get_batch()\n",
    "    X.append(x)\n",
    "    Y.append(y)\n",
    "X = np.array(X)\n",
    "Y = np.array(Y)\n",
    "print (X.shape, Y.shape)"
   ]
  },
  {
   "cell_type": "code",
   "execution_count": 5,
   "metadata": {
    "collapsed": true
   },
   "outputs": [],
   "source": [
    "class DNN(nn.Module):\n",
    "    def __init__(self):\n",
    "        super(DNN, self).__init__() #load super class for training data\n",
    "        self.fc1 = nn.Linear(1, 10)\n",
    "        self.fc2 = nn.Linear(10, 10)\n",
    "        self.fc3 = nn.Linear(10, 1)\n",
    "\n",
    "    def forward(self, x): #feed forward\n",
    "        layer1 = self.fc1(x)\n",
    "        layer2 = self.fc2(layer1)\n",
    "        layer3 = self.fc3(layer2)\n",
    "        return layer3"
   ]
  },
  {
   "cell_type": "code",
   "execution_count": 6,
   "metadata": {},
   "outputs": [
    {
     "name": "stdout",
     "output_type": "stream",
     "text": [
      "DNN(\n",
      "  (fc1): Linear(in_features=1, out_features=10, bias=True)\n",
      "  (fc2): Linear(in_features=10, out_features=10, bias=True)\n",
      "  (fc3): Linear(in_features=10, out_features=1, bias=True)\n",
      ")\n",
      "<torch.optim.sgd.SGD object at 0x7fbeae928048>\n"
     ]
    }
   ],
   "source": [
    "model = DNN()\n",
    "if cuda:\n",
    "    model.cuda()\n",
    "print (model)\n",
    "optimizer = optim.SGD(model.parameters(), lr=lr, momentum=momentum)\n",
    "print (optimizer)"
   ]
  },
  {
   "cell_type": "code",
   "execution_count": 7,
   "metadata": {
    "collapsed": true
   },
   "outputs": [],
   "source": [
    "def count_parameters(model):\n",
    "    return sum(p.numel() for p in model.parameters() if p.requires_grad)"
   ]
  },
  {
   "cell_type": "code",
   "execution_count": 8,
   "metadata": {},
   "outputs": [
    {
     "name": "stdout",
     "output_type": "stream",
     "text": [
      "141\n"
     ]
    }
   ],
   "source": [
    "print (count_parameters(model))"
   ]
  },
  {
   "cell_type": "code",
   "execution_count": 9,
   "metadata": {
    "collapsed": true
   },
   "outputs": [],
   "source": [
    "loss_history = []\n",
    "miniratio_history = []\n",
    "normgrad_history = []\n",
    "cnt = 0"
   ]
  },
  {
   "cell_type": "code",
   "execution_count": 10,
   "metadata": {
    "collapsed": true
   },
   "outputs": [],
   "source": [
    "def train(epoch):\n",
    "    model.train()\n",
    "    for batch_idx in range(data_length//batch_size):\n",
    "        data, target = get_batch(batch_size)\n",
    "        if cuda:\n",
    "            data, target = data.cuda(), target.cuda()\n",
    "        \n",
    "        data, target = Variable(data), Variable(target)\n",
    "        optimizer.zero_grad()\n",
    "        output = model(data)\n",
    "        loss = F.mse_loss(output, target)\n",
    "        loss.backward()\n",
    "        optimizer.step()\n",
    "        \n",
    "        #'''\n",
    "        if batch_idx % log_interval == 0:\n",
    "            print('Train Epoch: {} [{}/{} ({:.0f}%)]\\tLoss: {:.6f}  {}'.format(\n",
    "                epoch, batch_idx * 256, data_length,\n",
    "                100. * batch_idx / data_length, loss.data[0], len(loss_history)), end='\\r')\n",
    "        #'''"
   ]
  },
  {
   "cell_type": "code",
   "execution_count": 11,
   "metadata": {
    "scrolled": true
   },
   "outputs": [
    {
     "name": "stdout",
     "output_type": "stream",
     "text": [
      "Train Epoch: 99 [64000/16384 (2%)]\tLoss: 0.077847  0\r"
     ]
    }
   ],
   "source": [
    "for epoch in range(epochs):\n",
    "    train(epoch)"
   ]
  },
  {
   "cell_type": "code",
   "execution_count": 12,
   "metadata": {
    "collapsed": true
   },
   "outputs": [],
   "source": [
    "def cal_norm_grad(grad_params):\n",
    "    grad_norm = 0\n",
    "    for grad in grad_params:\n",
    "        grad_norm += grad.pow(2).sum()\n",
    "    grad_norm = grad_norm.sqrt()\n",
    "    return grad_norm"
   ]
  },
  {
   "cell_type": "code",
   "execution_count": 13,
   "metadata": {
    "collapsed": true
   },
   "outputs": [],
   "source": [
    "def cal_miniratio(grads):\n",
    "    flat_grad = torch.cat([g.view(-1) for g in grads])\n",
    "    hessian = []\n",
    "    \n",
    "    for g in flat_grad:\n",
    "        flat = np.array([])\n",
    "        tmp = grad(g, model.parameters(), create_graph=True)\n",
    "        tmp = [gg.data.cpu().numpy() for gg in tmp]\n",
    "        for i in tmp:\n",
    "            flat = np.concatenate((flat, np.ndarray.flatten(i)))\n",
    "        hessian.append(flat)\n",
    "    \n",
    "    hessian = np.array(hessian)\n",
    "    #print (hessian.shape)\n",
    "    eigval = np.linalg.eigvalsh(hessian)\n",
    "    \n",
    "    cnt = 0\n",
    "    for i in eigval:\n",
    "        if i > 0:\n",
    "            cnt += 1\n",
    "    return cnt/len(eigval)"
   ]
  },
  {
   "cell_type": "code",
   "execution_count": 14,
   "metadata": {
    "collapsed": true
   },
   "outputs": [],
   "source": [
    "def train2(epoch):\n",
    "    model.train()\n",
    "\n",
    "    data, target = get_batch(data_length)\n",
    "    if cuda:\n",
    "        data, target = data.cuda(), target.cuda()\n",
    "\n",
    "    data, target = Variable(data), Variable(target)\n",
    "    # zero the parameter gradients\n",
    "    optimizer.zero_grad()\n",
    "    # forward + backward + optimize\n",
    "    output = model(data)\n",
    "    loss = F.mse_loss(output, target)\n",
    "\n",
    "    grads = grad(loss, model.parameters(), create_graph=True)\n",
    "    grad_norm = cal_norm_grad(grads)\n",
    "    if grad_norm.cpu().data[0] < 0.002:\n",
    "        tmp = cal_miniratio(grads)\n",
    "        miniratio_history.append(tmp)\n",
    "        loss_history.append(loss.data[0])\n",
    "    \n",
    "    normgrad_history.append(grad_norm.data[0])\n",
    "    grad_norm.backward()\n",
    "    optimizer.step()"
   ]
  },
  {
   "cell_type": "code",
   "execution_count": 15,
   "metadata": {
    "scrolled": true
   },
   "outputs": [],
   "source": [
    "for epoch in range(epochs*200):\n",
    "    train2(epoch)"
   ]
  },
  {
   "cell_type": "code",
   "execution_count": 16,
   "metadata": {},
   "outputs": [
    {
     "name": "stdout",
     "output_type": "stream",
     "text": [
      "20000 0.0005828437278978527\n"
     ]
    }
   ],
   "source": [
    "print (len(normgrad_history), min(normgrad_history))"
   ]
  },
  {
   "cell_type": "code",
   "execution_count": 17,
   "metadata": {},
   "outputs": [
    {
     "name": "stdout",
     "output_type": "stream",
     "text": [
      "11\n"
     ]
    }
   ],
   "source": [
    "print (len(miniratio_history))"
   ]
  },
  {
   "cell_type": "code",
   "execution_count": 18,
   "metadata": {
    "scrolled": true
   },
   "outputs": [
    {
     "data": {
      "text/plain": [
       "[<matplotlib.lines.Line2D at 0x7fbeae920630>]"
      ]
     },
     "execution_count": 18,
     "metadata": {},
     "output_type": "execute_result"
    },
    {
     "data": {
      "image/png": "[encoded data removed]",
      "text/plain": [
       "<Figure size 432x288 with 1 Axes>"
      ]
     },
     "metadata": {},
     "output_type": "display_data"
    }
   ],
   "source": [
    "plt.clf()\n",
    "plt.subplot(111)\n",
    "e = list(range(len(normgrad_history)))\n",
    "#print (np.array(e).shape, np.array(norm_grad_history).shape)\n",
    "plt.plot(e, normgrad_history)"
   ]
  },
  {
   "cell_type": "code",
   "execution_count": 19,
   "metadata": {},
   "outputs": [
    {
     "data": {
      "image/png": "[encoded data removed]",
      "text/plain": [
       "<Figure size 432x288 with 1 Axes>"
      ]
     },
     "metadata": {},
     "output_type": "display_data"
    }
   ],
   "source": [
    "fig = plt.figure(1)\n",
    "ax = fig.add_subplot(111)\n",
    "ax.set_ylabel('loss', fontsize = 15)\n",
    "ax.set_xlabel('minimun_ratio', fontsize = 15)\n",
    "ax.set_title('When Gradient is Almost Zero', fontsize = 20)\n",
    "ax.scatter(miniratio_history, loss_history, s = 10)\n",
    "ax.grid()\n",
    "plt.savefig('WhenGradientisAlmostZero.png')"
   ]
  }
 ],
 "metadata": {
  "kernelspec": {
   "display_name": "Python 3",
   "language": "python",
   "name": "python3"
  },
  "language_info": {
   "codemirror_mode": {
    "name": "ipython",
    "version": 3
   },
   "file_extension": ".py",
   "mimetype": "text/x-python",
   "name": "python",
   "nbconvert_exporter": "python",
   "pygments_lexer": "ipython3",
   "version": "3.5.2"
  }
 },
 "nbformat": 4,
 "nbformat_minor": 2
}
