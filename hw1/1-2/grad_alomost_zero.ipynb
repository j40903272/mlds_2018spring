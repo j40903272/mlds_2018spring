{
 "cells": [
  {
   "cell_type": "code",
   "execution_count": 1,
   "metadata": {
    "collapsed": true
   },
   "outputs": [],
   "source": [
    "import os\n",
    "import sys\n",
    "import pickle\n",
    "import numpy as np\n",
    "import scipy as sc\n",
    "from subprocess import call\n",
    "import matplotlib.pyplot as plt\n",
    "%matplotlib inline"
   ]
  },
  {
   "cell_type": "code",
   "execution_count": 2,
   "metadata": {
    "collapsed": true
   },
   "outputs": [],
   "source": [
    "from __future__ import print_function\n",
    "import argparse\n",
    "import torch\n",
    "import torch.nn as nn\n",
    "import torch.nn.functional as F\n",
    "import torch.optim as optim\n",
    "from torchvision import datasets, transforms\n",
    "from torch.autograd import Variable, grad\n",
    "import time\n",
    "import numpy as np"
   ]
  },
  {
   "cell_type": "code",
   "execution_count": 3,
   "metadata": {},
   "outputs": [],
   "source": [
    "batch_size = 64\n",
    "epochs = 100\n",
    "seed = 1\n",
    "lr = 0.01\n",
    "momentum = 0.5\n",
    "log_interval = 10\n",
    "PATH = \"model\" # model path\n",
    "cuda = torch.cuda.is_available()\n",
    "\n",
    "if cuda:\n",
    "    torch.cuda.manual_seed(seed)"
   ]
  },
  {
   "cell_type": "code",
   "execution_count": 4,
   "metadata": {},
   "outputs": [],
   "source": [
    "train_loader = torch.utils.data.DataLoader(\n",
    "                datasets.MNIST('../data', train=True, download=True,\n",
    "                    transform=transforms.Compose([\n",
    "                        transforms.ToTensor(),\n",
    "                        transforms.Normalize((0.1307,), (0.3081,))\n",
    "                    ])),\n",
    "                batch_size=batch_size, shuffle=True)"
   ]
  },
  {
   "cell_type": "code",
   "execution_count": 5,
   "metadata": {},
   "outputs": [],
   "source": [
    "class DNN(nn.Module):\n",
    "    def __init__(self):\n",
    "        super(DNN, self).__init__() #load super class for training data\n",
    "        self.fc1 = nn.Linear(784, 10)\n",
    "        self.relu = nn.ReLU()\n",
    "\n",
    "    def forward(self, x): #feed forward\n",
    "        layer1 = x.view(-1, 784) # flatten\n",
    "        layer2 = self.relu(self.fc1(layer1))\n",
    "        return F.log_softmax(layer2, dim=1)"
   ]
  },
  {
   "cell_type": "code",
   "execution_count": 6,
   "metadata": {},
   "outputs": [
    {
     "name": "stdout",
     "output_type": "stream",
     "text": [
      "DNN(\n",
      "  (fc1): Linear(in_features=784, out_features=10, bias=True)\n",
      "  (relu): ReLU()\n",
      ")\n",
      "<torch.optim.sgd.SGD object at 0x7f6b2393bc88>\n"
     ]
    }
   ],
   "source": [
    "model = DNN()\n",
    "if cuda:\n",
    "    model.cuda()\n",
    "print (model)\n",
    "optimizer = optim.SGD(model.parameters(), lr=lr, momentum=momentum)\n",
    "print (optimizer)"
   ]
  },
  {
   "cell_type": "code",
   "execution_count": 7,
   "metadata": {},
   "outputs": [],
   "source": [
    "loss_history = []\n",
    "miniratio_history = []\n",
    "cnt = 0"
   ]
  },
  {
   "cell_type": "code",
   "execution_count": 8,
   "metadata": {
    "collapsed": true
   },
   "outputs": [],
   "source": [
    "def train(epoch):\n",
    "    model.train()\n",
    "    for batch_idx, (data, target) in enumerate(train_loader):\n",
    "        if cuda:\n",
    "            data, target = data.cuda(), target.cuda()\n",
    "        \n",
    "        data, target = Variable(data), Variable(target)\n",
    "        optimizer.zero_grad()\n",
    "        output = model(data)\n",
    "        loss = F.nll_loss(output, target)\n",
    "        \n",
    "        grads = grad(loss, model.parameters(), create_graph=True)\n",
    "        grad_norm = cal_norm_grad(grads)\n",
    "        if grad_norm.cpu().data[0] == 0:\n",
    "            miniratio_history.append(cal_miniratio(grads))\n",
    "            loss_history.append(loss.data[0])\n",
    "        \n",
    "        grad_norm.backward()\n",
    "        optimizer.step()\n",
    "        \n",
    "        '''\n",
    "        if batch_idx % log_interval == 0:\n",
    "            print('Train Epoch: {} [{}/{} ({:.0f}%)]\\tLoss: {:.6f}'.format(\n",
    "                epoch, batch_idx * len(data), len(train_loader.dataset),\n",
    "                100. * batch_idx / len(train_loader), loss.data[0]), end='\\r')\n",
    "        '''"
   ]
  },
  {
   "cell_type": "code",
   "execution_count": 9,
   "metadata": {
    "collapsed": true
   },
   "outputs": [],
   "source": [
    "def cal_norm_grad(grad_params):\n",
    "    grad_norm = 0\n",
    "    for grad in grad_params:\n",
    "        grad_norm += grad.pow(2).sum()\n",
    "    grad_norm = grad_norm.sqrt()\n",
    "    return grad_norm"
   ]
  },
  {
   "cell_type": "code",
   "execution_count": 10,
   "metadata": {
    "collapsed": true
   },
   "outputs": [],
   "source": [
    "def cal_miniratio(grads):\n",
    "    flat_grad = torch.cat([g.view(-1) for g in grads])\n",
    "    hessian = []\n",
    "    for g in flat_grad:\n",
    "        tmp = grad(g, model.parameters(), create_graph=True)\n",
    "        flat_tmp = torch.cat([g.view(-1) for g in tmp]).data.cpu().numpy()\n",
    "        hessian.append(tmp)\n",
    "    eigval = np.linalg.eigvalsh(hessian)\n",
    "    cnt = 0\n",
    "    for i in eigval:\n",
    "        if i > 0:\n",
    "            cnt += 1\n",
    "    return cnt/len(eigval)"
   ]
  },
  {
   "cell_type": "code",
   "execution_count": 11,
   "metadata": {
    "scrolled": true
   },
   "outputs": [
    {
     "name": "stdout",
     "output_type": "stream",
     "text": [
      "Epoch 99 0\r"
     ]
    }
   ],
   "source": [
    "for epoch in range(epochs):\n",
    "    print (\"Epoch\", epoch, len(loss_history), end='\\r')\n",
    "    train(epoch)"
   ]
  },
  {
   "cell_type": "code",
   "execution_count": 12,
   "metadata": {},
   "outputs": [
    {
     "data": {
      "image/png": "[encoded data removed]",
      "text/plain": [
       "<Figure size 432x288 with 1 Axes>"
      ]
     },
     "metadata": {},
     "output_type": "display_data"
    }
   ],
   "source": [
    "fig = plt.figure(1)\n",
    "ax = fig.add_subplot(111)\n",
    "ax.set_xlabel('loss', fontsize = 15)\n",
    "ax.set_ylabel('minimun_ratio', fontsize = 15)\n",
    "ax.set_title('When Gradient is Almost Zero', fontsize = 20)\n",
    "ax.scatter(loss_history, miniratio_history)\n",
    "ax.grid()\n",
    "plt.savefig('WhenGradientisAlmostZero.png')"
   ]
  }
 ],
 "metadata": {
  "kernelspec": {
   "display_name": "Python 3",
   "language": "python",
   "name": "python3"
  },
  "language_info": {
   "codemirror_mode": {
    "name": "ipython",
    "version": 3
   },
   "file_extension": ".py",
   "mimetype": "text/x-python",
   "name": "python",
   "nbconvert_exporter": "python",
   "pygments_lexer": "ipython3",
   "version": "3.5.2"
  }
 },
 "nbformat": 4,
 "nbformat_minor": 2
}
