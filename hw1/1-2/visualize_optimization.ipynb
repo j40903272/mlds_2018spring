{
 "cells": [
  {
   "cell_type": "code",
   "execution_count": 1,
   "metadata": {
    "collapsed": true
   },
   "outputs": [],
   "source": [
    "from __future__ import print_function\n",
    "import argparse\n",
    "import torch\n",
    "import torch.nn as nn\n",
    "import torch.nn.functional as F\n",
    "import torch.optim as optim\n",
    "from torchvision import datasets, transforms\n",
    "from torch.autograd import Variable\n",
    "import time\n",
    "import numpy as np"
   ]
  },
  {
   "cell_type": "code",
   "execution_count": 2,
   "metadata": {},
   "outputs": [
    {
     "name": "stdout",
     "output_type": "stream",
     "text": [
      "version: 0.3.1\n",
      "gpu device: 1\n"
     ]
    }
   ],
   "source": [
    "print (\"version:\", torch.__version__)\n",
    "print (\"gpu device:\", torch.cuda.device_count())"
   ]
  },
  {
   "cell_type": "code",
   "execution_count": 3,
   "metadata": {
    "collapsed": true
   },
   "outputs": [],
   "source": [
    "batch_size = 64\n",
    "epochs = 30\n",
    "nevent = 8\n",
    "seed = 1\n",
    "lr = 0.01\n",
    "momentum = 0.5\n",
    "log_interval = 10\n",
    "PATH = \"visualize_optimization_model\" # model path\n",
    "cuda = torch.cuda.is_available()\n",
    "\n",
    "if cuda:\n",
    "    torch.cuda.manual_seed(seed)\n",
    "kwargs = {'num_workers': 4, 'pin_memory': True} if cuda else {}"
   ]
  },
  {
   "cell_type": "code",
   "execution_count": 4,
   "metadata": {
    "collapsed": true
   },
   "outputs": [],
   "source": [
    "train_loader = torch.utils.data.DataLoader(\n",
    "    \n",
    "                datasets.MNIST('../data', train=True, download=True,\n",
    "                    transform=transforms.Compose([\n",
    "                        transforms.ToTensor(),\n",
    "                        transforms.Normalize((0.1307,), (0.3081,))\n",
    "                    ])),\n",
    "                batch_size=batch_size, shuffle=True, **kwargs)\n",
    "\n",
    "test_loader = torch.utils.data.DataLoader(\n",
    "                datasets.MNIST('../data', train=False,\n",
    "                    transform=transforms.Compose([\n",
    "                       transforms.ToTensor(),\n",
    "                       transforms.Normalize((0.1307,), (0.3081,))\n",
    "                    ])),\n",
    "                batch_size=batch_size, shuffle=True, **kwargs)"
   ]
  },
  {
   "cell_type": "code",
   "execution_count": 5,
   "metadata": {
    "collapsed": true
   },
   "outputs": [],
   "source": [
    "class CNN(nn.Module):\n",
    "    def __init__(self):\n",
    "        super(CNN, self).__init__()\n",
    "        self.conv1 = nn.Conv2d(1, 10, kernel_size=5)\n",
    "        self.conv2 = nn.Conv2d(10, 20, kernel_size=5)\n",
    "        self.conv2_drop = nn.Dropout2d()\n",
    "        self.fc1 = nn.Linear(320, 50)\n",
    "        self.fc2 = nn.Linear(50, 10)\n",
    "\n",
    "    def forward(self, x):\n",
    "        x = F.relu(F.max_pool2d(self.conv1(x), 2))\n",
    "        x = F.relu(F.max_pool2d(self.conv2_drop(self.conv2(x)), 2))\n",
    "        x = x.view(-1, 320) # flatten\n",
    "        x = F.relu(self.fc1(x))\n",
    "        x = F.dropout(x, training=self.training)\n",
    "        x = self.fc2(x)\n",
    "        return F.log_softmax(x) # transform to logits"
   ]
  },
  {
   "cell_type": "code",
   "execution_count": 6,
   "metadata": {
    "collapsed": true
   },
   "outputs": [],
   "source": [
    "class DNN(nn.Module):\n",
    "    def __init__(self):\n",
    "        super(DNN, self).__init__() #load super class for training data\n",
    "        self.fc1 = nn.Linear(784, 50)\n",
    "        self.fc2 = nn.Linear(50, 10)\n",
    "        self.relu = nn.ReLU()\n",
    "\n",
    "    def forward(self, x): #feed forward\n",
    "        layer1 = x.view(-1, 784) # flatten\n",
    "        layer2 = self.relu(self.fc1(layer1))\n",
    "        layer3 = self.relu(self.fc2(layer2))\n",
    "        return F.log_softmax(layer3, dim=1)"
   ]
  },
  {
   "cell_type": "code",
   "execution_count": 7,
   "metadata": {
    "collapsed": true
   },
   "outputs": [],
   "source": [
    "loss_history = []\n",
    "acc_history = []\n",
    "weights_history = []"
   ]
  },
  {
   "cell_type": "code",
   "execution_count": 8,
   "metadata": {
    "collapsed": true
   },
   "outputs": [],
   "source": [
    "def train(epoch):\n",
    "    model.train()\n",
    "    for batch_idx, (data, target) in enumerate(train_loader):\n",
    "        if cuda:\n",
    "            data, target = data.cuda(), target.cuda()\n",
    "        \n",
    "        data, target = Variable(data), Variable(target)\n",
    "        # zero the parameter gradients\n",
    "        optimizer.zero_grad()\n",
    "        # forward + backward + optimize\n",
    "        output = model(data)\n",
    "        loss = F.nll_loss(output, target)\n",
    "        loss.backward()\n",
    "        optimizer.step()\n",
    "        \n",
    "        '''\n",
    "        if batch_idx % log_interval == 0:\n",
    "            print('Train Epoch: {} [{}/{} ({:.0f}%)]\\tLoss: {:.6f}'.format(\n",
    "                epoch, batch_idx * len(data), len(train_loader.dataset),\n",
    "                100. * batch_idx / len(train_loader), loss.data[0]), end='\\r')\n",
    "        '''"
   ]
  },
  {
   "cell_type": "code",
   "execution_count": 9,
   "metadata": {
    "collapsed": true
   },
   "outputs": [],
   "source": [
    "def test(epoch):\n",
    "    model.eval()\n",
    "    test_loss = 0\n",
    "    correct = 0\n",
    "    \n",
    "    for data, target in test_loader:\n",
    "        if cuda:\n",
    "            data, target = data.cuda(), target.cuda()\n",
    "        data, target = Variable(data, volatile=True), Variable(target)\n",
    "        output = model(data)\n",
    "        test_loss += F.nll_loss(output, target, size_average=False).data[0] # sum up batch loss\n",
    "        #pred = output.data.max(1, keepdim=True)[1] # get the index of the max log-probability\n",
    "        pred = output.data.max(1)[1]\n",
    "        correct += pred.eq(target.data.view_as(pred)).long().cpu().sum()\n",
    "        \n",
    "\n",
    "    test_loss /= len(test_loader.dataset)\n",
    "    accuracy = 100. * correct / len(test_loader.dataset)\n",
    "    \n",
    "    return test_loss, accuracy\n",
    "    '''\n",
    "    print('\\nTest set: Average loss: {:.4f}, Accuracy: {}/{} ({:.0f}%)\\n'.format(\n",
    "        test_loss, correct, len(test_loader.dataset),\n",
    "        100. * correct / len(test_loader.dataset)))\n",
    "    '''"
   ]
  },
  {
   "cell_type": "code",
   "execution_count": 10,
   "metadata": {
    "collapsed": true
   },
   "outputs": [],
   "source": [
    "def get_model_weights():\n",
    "    weights = np.array([])\n",
    "    for p in model.parameters():\n",
    "        weights = np.concatenate((weights, np.ndarray.flatten(p.cpu().data.numpy())))\n",
    "    return weights"
   ]
  },
  {
   "cell_type": "code",
   "execution_count": 11,
   "metadata": {
    "scrolled": true
   },
   "outputs": [
    {
     "name": "stdout",
     "output_type": "stream",
     "text": [
      "Event 8, Epoch 29\r"
     ]
    }
   ],
   "source": [
    "weight_num = 0\n",
    "for i in range(8):\n",
    "    model = DNN()\n",
    "    if cuda:\n",
    "        model.cuda()\n",
    "    optimizer = optim.SGD(model.parameters(), lr=lr, momentum=momentum)\n",
    "    \n",
    "    event_loss = []\n",
    "    event_acc = []\n",
    "    event_weights = []\n",
    "    \n",
    "    for epoch in range(epochs):\n",
    "        print(\"Event %d, Epoch %d\" % (i+1, epoch), end='\\r')\n",
    "        train(epoch)\n",
    "        loss, acc = test(epoch)\n",
    "        if epoch%3 == 0:\n",
    "            event_loss.append(loss)\n",
    "            event_acc.append(acc)\n",
    "            weights = get_model_weights()\n",
    "            event_weights.append(weights)\n",
    "            \n",
    "        \n",
    "    #save_result(i)\n",
    "    loss_history.append(event_loss)\n",
    "    acc_history.append(event_acc)\n",
    "    weights_history.append(event_weights)"
   ]
  },
  {
   "cell_type": "code",
   "execution_count": 12,
   "metadata": {
    "collapsed": true
   },
   "outputs": [],
   "source": [
    "import matplotlib.pyplot as plt\n",
    "%matplotlib inline\n",
    "import matplotlib.cm as cm"
   ]
  },
  {
   "cell_type": "code",
   "execution_count": 13,
   "metadata": {},
   "outputs": [
    {
     "data": {
      "image/png": "[encoded data removed]",
      "text/plain": [
       "<Figure size 432x288 with 2 Axes>"
      ]
     },
     "metadata": {},
     "output_type": "display_data"
    }
   ],
   "source": [
    "plt.clf()\n",
    "plt.subplot(211)\n",
    "e = list(range(len(loss_history[0])))\n",
    "plt.plot(e, loss_history[0], label=\"loss\")\n",
    "plt.legend()\n",
    "plt.subplot(212)\n",
    "e = list(range(len(acc_history[0])))\n",
    "plt.plot(e, acc_history[0], label=\"acc\")\n",
    "plt.legend()\n",
    "plt.show()"
   ]
  },
  {
   "cell_type": "markdown",
   "metadata": {},
   "source": [
    "The principal components (eigenvectors of the covariance matrix) correspond to the direction (in the original n-dimensional space) with the greatest variance"
   ]
  },
  {
   "cell_type": "code",
   "execution_count": 14,
   "metadata": {},
   "outputs": [
    {
     "name": "stdout",
     "output_type": "stream",
     "text": [
      "weight shape: (8, 10, 39760)\n"
     ]
    }
   ],
   "source": [
    "colormap = plt.cm.gist_ncar\n",
    "colors = [colormap(i) for i in np.linspace(0, 0.9, 8)]\n",
    "colors = [i[:3] for i in colors]\n",
    "print (\"weight shape:\", np.array(weights_history).shape)"
   ]
  },
  {
   "cell_type": "code",
   "execution_count": 15,
   "metadata": {},
   "outputs": [
    {
     "name": "stdout",
     "output_type": "stream",
     "text": [
      "[(0.0, 0.0, 0.502), (0.0, 0.2766442983467896, 1.0), (0.0, 0.9821726582048133, 0.6656248999599841), (0.4226958093041137, 0.8592963314358, 0.0), (0.9109163702275082, 1.0, 0.07796513938908894), (1.0, 0.6330785099467843, 0.04394123649459788), (1.0, 0.0, 0.6252367084538739), (0.9263191464821222, 0.5183477508650517, 0.936507535563245)]\n"
     ]
    }
   ],
   "source": [
    "print (colors)"
   ]
  },
  {
   "cell_type": "code",
   "execution_count": 16,
   "metadata": {
    "collapsed": true
   },
   "outputs": [],
   "source": [
    "from sklearn.decomposition import PCA"
   ]
  },
  {
   "cell_type": "code",
   "execution_count": 17,
   "metadata": {},
   "outputs": [
    {
     "data": {
      "text/plain": [
       "(8, 10, 39760)"
      ]
     },
     "execution_count": 17,
     "metadata": {},
     "output_type": "execute_result"
    }
   ],
   "source": [
    "np.array(weights_history).shape"
   ]
  },
  {
   "cell_type": "code",
   "execution_count": 20,
   "metadata": {},
   "outputs": [],
   "source": [
    "weights_history = np.array(weights_history).reshape(nevent*((epochs+2)//3), -1)"
   ]
  },
  {
   "cell_type": "code",
   "execution_count": 21,
   "metadata": {},
   "outputs": [
    {
     "name": "stdout",
     "output_type": "stream",
     "text": [
      "pca shape: (80, 2)\n"
     ]
    }
   ],
   "source": [
    "pca = PCA(n_components=2)\n",
    "pca_weights = pca.fit_transform(weights_history)\n",
    "print (\"pca shape:\", np.array(pca_weights).shape)"
   ]
  },
  {
   "cell_type": "code",
   "execution_count": 22,
   "metadata": {
    "collapsed": true
   },
   "outputs": [],
   "source": [
    "pca_weights = pca_weights.reshape(nevent, (epochs+2)//3, 2)"
   ]
  },
  {
   "cell_type": "code",
   "execution_count": 23,
   "metadata": {},
   "outputs": [
    {
     "data": {
      "image/png": "[encoded data removed]",
      "text/plain": [
       "<Figure size 576x576 with 1 Axes>"
      ]
     },
     "metadata": {},
     "output_type": "display_data"
    }
   ],
   "source": [
    "fig = plt.figure(figsize = (8,8))\n",
    "ax = fig.add_subplot(111)\n",
    "ax.set_xlabel('Principal Component 1', fontsize = 15)\n",
    "ax.set_ylabel('Principal Component 2', fontsize = 15)\n",
    "ax.set_title('2 Component PCA', fontsize = 20)\n",
    "\n",
    "for target, color in zip(pca_weights, colors):\n",
    "    ax.scatter(target[:, 0], target[:, 1], c = color, s = 50)\n",
    "    for idx in range(len(target)):\n",
    "        ax.annotate(str(acc_history[i][idx]), (target[idx][0], target[idx][1]))\n",
    "\n",
    "ax.grid()\n",
    "plt.savefig('pca.png')"
   ]
  },
  {
   "cell_type": "code",
   "execution_count": 24,
   "metadata": {
    "collapsed": true
   },
   "outputs": [],
   "source": [
    "from sklearn.manifold import TSNE"
   ]
  },
  {
   "cell_type": "code",
   "execution_count": 25,
   "metadata": {},
   "outputs": [
    {
     "name": "stdout",
     "output_type": "stream",
     "text": [
      "tsne weights shape: (80, 2)\n"
     ]
    }
   ],
   "source": [
    "T = TSNE(n_components=2)\n",
    "tsne_weights = T.fit_transform(weights_history)\n",
    "print (\"tsne weights shape:\", np.array(tsne_weights).shape)"
   ]
  },
  {
   "cell_type": "code",
   "execution_count": 26,
   "metadata": {},
   "outputs": [],
   "source": [
    "tsne_weights = tsne_weights.reshape(nevent, (epochs+2)//3, -1)"
   ]
  },
  {
   "cell_type": "code",
   "execution_count": null,
   "metadata": {},
   "outputs": [],
   "source": [
    "fig = plt.figure(figsize = (8,8))\n",
    "ax = fig.add_subplot(111)\n",
    "ax.set_title('T-SNE', fontsize = 20)\n",
    "\n",
    "for i in range(8):\n",
    "    x = tsne_weights[i][:, 0]\n",
    "    y = tsne_weights[i][:, 1]\n",
    "    ax.scatter(x, y, c= colors[i])\n",
    "    for idx in range(len(x)):\n",
    "        ax.annotate(str(acc_history[i][idx]), (x[idx], y[idx]))\n",
    "\n",
    "ax.grid()\n",
    "plt.savefig('tsne.png')"
   ]
  },
  {
   "cell_type": "code",
   "execution_count": null,
   "metadata": {
    "collapsed": true
   },
   "outputs": [],
   "source": [
    "import pickle\n",
    "\n",
    "with open('acc', 'wb') as f:\n",
    "    pickle.dump(acc_history, f)\n",
    "with open('loss', 'wb') as f:\n",
    "    pickle.dump(loss_history, f)\n",
    "with open('weights', 'wb') as f:\n",
    "    pickle.dump(weights_history, f)\n",
    "with open('pca_weights', 'wb') as f:\n",
    "    pickle.dump(pca_weights, f)\n",
    "with open('tsne_weights', 'wb') as f:\n",
    "    pickle.dump(tsne_weights, f)\n",
    "    \n",
    "torch.save(model.state_dict(), PATH)\n",
    "\n",
    "#model.load_state_dict(torch.load(PATH))\n",
    "#with open ('outfile', 'rb') as fp:\n",
    "#    itemlist = pickle.load(fp)"
   ]
  }
 ],
 "metadata": {
  "kernelspec": {
   "display_name": "Python 3",
   "language": "python",
   "name": "python3"
  },
  "language_info": {
   "codemirror_mode": {
    "name": "ipython",
    "version": 3
   },
   "file_extension": ".py",
   "mimetype": "text/x-python",
   "name": "python",
   "nbconvert_exporter": "python",
   "pygments_lexer": "ipython3",
   "version": "3.5.2"
  }
 },
 "nbformat": 4,
 "nbformat_minor": 2
}
