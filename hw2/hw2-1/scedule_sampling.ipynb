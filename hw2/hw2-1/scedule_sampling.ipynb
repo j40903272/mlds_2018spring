{
 "cells": [
  {
   "cell_type": "code",
   "execution_count": 1,
   "metadata": {},
   "outputs": [],
   "source": [
    "import os\n",
    "import sys\n",
    "import json\n",
    "import numpy as np\n",
    "import matplotlib.pyplot as plt\n",
    "%matplotlib inline"
   ]
  },
  {
   "cell_type": "code",
   "execution_count": 2,
   "metadata": {},
   "outputs": [
    {
     "name": "stderr",
     "output_type": "stream",
     "text": [
      "Using TensorFlow backend.\n"
     ]
    }
   ],
   "source": [
    "import tensorflow as tf\n",
    "from keras.backend.tensorflow_backend import set_session\n",
    "config = tf.ConfigProto()\n",
    "config.gpu_options.per_process_gpu_memory_fraction = 0.3\n",
    "set_session(tf.Session(config=config))"
   ]
  },
  {
   "cell_type": "code",
   "execution_count": 3,
   "metadata": {},
   "outputs": [
    {
     "name": "stdout",
     "output_type": "stream",
     "text": [
      "2.0.8\n"
     ]
    }
   ],
   "source": [
    "import keras\n",
    "print(keras.__version__)"
   ]
  },
  {
   "cell_type": "markdown",
   "metadata": {},
   "source": [
    "### load data"
   ]
  },
  {
   "cell_type": "code",
   "execution_count": 4,
   "metadata": {},
   "outputs": [
    {
     "name": "stdout",
     "output_type": "stream",
     "text": [
      "1450 training files\n",
      "1450 training data\n",
      "1450 training labels\n"
     ]
    }
   ],
   "source": [
    "train_id_list = open('hw2_1_data/training_data/id.txt').read().split()\n",
    "train_data = {i:np.load('hw2_1_data/training_data/feat/'+ i + '.npy') for i in train_id_list}\n",
    "train_label = json.loads(open('hw2_1_data/training_label.json', 'r').read())\n",
    "# label = list -> dict['caption'] -> list (variable length???)\n",
    "\n",
    "print (len(train_id_list), 'training files')\n",
    "print (len(train_data), 'training data')\n",
    "print (len(train_label), 'training labels')"
   ]
  },
  {
   "cell_type": "code",
   "execution_count": 5,
   "metadata": {},
   "outputs": [
    {
     "name": "stdout",
     "output_type": "stream",
     "text": [
      "100 testing files\n",
      "100 testing data\n",
      "100 testing labels\n"
     ]
    }
   ],
   "source": [
    "test_id_list = open('hw2_1_data/testing_data/id.txt').read().split()\n",
    "test_data = {i:np.load('hw2_1_data/testing_data/feat/'+ i + '.npy') for i in test_id_list}\n",
    "test_label = json.loads(open('hw2_1_data/testing_label.json', 'r').read())\n",
    "# label = list -> dict['caption'] -> list (variable length???)\n",
    "\n",
    "print (len(test_id_list), 'testing files')\n",
    "print (len(test_data), 'testing data')\n",
    "print (len(test_label), 'testing labels')"
   ]
  },
  {
   "cell_type": "markdown",
   "metadata": {},
   "source": [
    "## preprocess"
   ]
  },
  {
   "cell_type": "raw",
   "metadata": {},
   "source": [
    "w2v_model = gensim.models.KeyedVectors.load_word2vec_format('./GoogleNews-vectors-negative300.bin', binary=True)\n",
    "w2v = w2v_model.wv\n",
    "#del w2v_model\n",
    "\n",
    "w_rank = {}\n",
    "for i,word in enumerate(w2v_model.index2word):\n",
    "    w_rank[word] = i\n",
    "\n",
    "WORDS = w_rank"
   ]
  },
  {
   "cell_type": "code",
   "execution_count": 6,
   "metadata": {},
   "outputs": [],
   "source": [
    "import string\n",
    "from autocorrect import spell\n",
    "from keras.preprocessing.text import Tokenizer, text_to_word_sequence"
   ]
  },
  {
   "cell_type": "raw",
   "metadata": {},
   "source": [
    "import re\n",
    "from collections import Counter"
   ]
  },
  {
   "cell_type": "raw",
   "metadata": {},
   "source": [
    "with open('all_caption', 'w')as f:\n",
    "    for i in train_label:\n",
    "        for j in i['caption']:\n",
    "            f.write(j+'\\n')\n",
    "    for i in test_label:\n",
    "        for j in i['caption']:\n",
    "            f.write(j+'\\n')"
   ]
  },
  {
   "cell_type": "raw",
   "metadata": {},
   "source": [
    "def words(text): return re.findall(r'\\w+', text.lower())\n",
    "WORDS = Counter(words(open('all_caption').read()))\n",
    "\n",
    "def P(word):\n",
    "    \"Probability of `word`.\"\n",
    "    # use inverse of rank as proxy\n",
    "    # returns 0 if the word isn't in the dictionary\n",
    "    return - WORDS.get(word, 0)\n",
    "\n",
    "def correction(word): \n",
    "    \"Most probable spelling correction for word.\"\n",
    "    return max(candidates(word), key=P)\n",
    "\n",
    "def candidates(word): \n",
    "    \"Generate possible spelling corrections for word.\"\n",
    "    return (known([word]) or known(edits1(word)) or known(edits2(word)) or [word])\n",
    "\n",
    "def known(words): \n",
    "    \"The subset of `words` that appear in the dictionary of WORDS.\"\n",
    "    return set(w for w in words if w in WORDS)\n",
    "\n",
    "def edits1(word):\n",
    "    \"All edits that are one edit away from `word`.\"\n",
    "    letters    = 'abcdefghijklmnopqrstuvwxyzABCDEFGHIJKLMNOPQRSTUVWXYZ'\n",
    "    splits     = [(word[:i], word[i:])    for i in range(len(word) + 1)]\n",
    "    deletes    = [L + R[1:]               for L, R in splits if R]\n",
    "    transposes = [L + R[1] + R[0] + R[2:] for L, R in splits if len(R)>1]\n",
    "    replaces   = [L + c + R[1:]           for L, R in splits if R for c in letters]\n",
    "    inserts    = [L + c + R               for L, R in splits for c in letters]\n",
    "    return set(deletes + transposes + replaces + inserts)\n",
    "\n",
    "def edits2(word): \n",
    "    \"All edits that are two edits away from `word`.\"\n",
    "    return (e2 for e1 in edits1(word) for e2 in edits1(e1))"
   ]
  },
  {
   "cell_type": "raw",
   "metadata": {},
   "source": [
    "# glove\n",
    "embeddings_index = {}\n",
    "with open('glove.6B.100d.txt', 'r', encoding='utf-8') as f:\n",
    "    for line in f:\n",
    "        values = line.split()\n",
    "        word = values[0]\n",
    "        coefs = np.asarray(values[1:], dtype='float32')\n",
    "        embeddings_index[word] = coefs\n",
    "\n",
    "print('Found %s word vectors.' % len(embeddings_index))"
   ]
  },
  {
   "cell_type": "code",
   "execution_count": 7,
   "metadata": {},
   "outputs": [
    {
     "name": "stdout",
     "output_type": "stream",
     "text": [
      "6222 words\n"
     ]
    }
   ],
   "source": [
    "t = Tokenizer()\n",
    "# fit_on_texts(texts)\n",
    "# texts: can be a list of strings, generator of strings, or a list of list of strings.\n",
    "\n",
    "for i in train_label:\n",
    "    t.fit_on_texts(i['caption'])\n",
    "    \n",
    "for i in test_label:\n",
    "    t.fit_on_texts(i['caption'])\n",
    "    \n",
    "print (len(t.word_counts), 'words')"
   ]
  },
  {
   "cell_type": "code",
   "execution_count": 8,
   "metadata": {},
   "outputs": [
    {
     "name": "stdout",
     "output_type": "stream",
     "text": [
      "train 1450\n",
      "test 100\n"
     ]
    }
   ],
   "source": [
    "# misspelling correction\n",
    "correct_words = {}\n",
    "\n",
    "for i in train_label:\n",
    "    new = []\n",
    "    for j in i['caption']:\n",
    "        tmp = text_to_word_sequence(j)\n",
    "        correct_list = []\n",
    "        for k in range(len(tmp)):\n",
    "            ignore_this_word = False\n",
    "            for l in tmp[k]:\n",
    "                if l not in string.ascii_letters and l not in [\" \", \"'\"]:\n",
    "                    #print ('######', l, tmp[k], tmp)\n",
    "                    ignore_this_word = True\n",
    "                    break\n",
    "            if ignore_this_word:\n",
    "                continue\n",
    "            corrected = spell(tmp[k])\n",
    "            if corrected != tmp[k] and corrected in t.word_counts and t.word_counts[corrected] > t.word_counts[tmp[k]]*5 and t.word_counts[tmp[k]] < 10 and tmp[k][-2:] != \"'s\":\n",
    "                #print (tmp[k], t.word_counts[tmp[k]], corrected, t.word_counts[corrected], tmp)\n",
    "                correct_words[tmp[k]] = corrected\n",
    "                correct_list.append(corrected)\n",
    "            else:\n",
    "                correct_list.append(tmp[k])\n",
    "                \n",
    "        new.append(\" \".join(correct_list))\n",
    "    i['caption'] = new\n",
    "    \n",
    "\n",
    "print ('train', len(train_label))\n",
    "print ('test', len(test_label))"
   ]
  },
  {
   "cell_type": "code",
   "execution_count": 9,
   "metadata": {},
   "outputs": [
    {
     "data": {
      "text/plain": [
       "132"
      ]
     },
     "execution_count": 9,
     "metadata": {},
     "output_type": "execute_result"
    }
   ],
   "source": [
    "len(correct_words)"
   ]
  },
  {
   "cell_type": "code",
   "execution_count": 10,
   "metadata": {},
   "outputs": [
    {
     "name": "stdout",
     "output_type": "stream",
     "text": [
      "6061 words\n"
     ]
    }
   ],
   "source": [
    "t = Tokenizer()\n",
    "# fit_on_texts(texts)\n",
    "# texts: can be a list of strings, generator of strings, or a list of list of strings.\n",
    "\n",
    "for i in train_label:\n",
    "    t.fit_on_texts(i['caption'])\n",
    "    \n",
    "for i in test_label:\n",
    "    t.fit_on_texts(i['caption'])\n",
    "    \n",
    "print (len(t.word_counts), 'words')"
   ]
  },
  {
   "cell_type": "raw",
   "metadata": {},
   "source": [
    "# choose label\n",
    "org_test_label = test_label.copy()\n",
    "org_train_label = train_label.copy()\n",
    "\n",
    "for i in train_label:\n",
    "    new = []\n",
    "    for j in i['caption']:\n",
    "        tmp = text_to_word_sequence(j)\n",
    "        if len(tmp) < 10:\n",
    "            new.append(j)\n",
    "    i['caption'] = new\n",
    "    \n",
    "for i in test_label:\n",
    "    new = []\n",
    "    for j in i['caption']:\n",
    "        tmp = text_to_word_sequence(j)\n",
    "        if len(tmp) < 10:\n",
    "            new.append(j)\n",
    "    i['caption'] = new"
   ]
  },
  {
   "cell_type": "code",
   "execution_count": 11,
   "metadata": {},
   "outputs": [],
   "source": [
    "# configs\n",
    "\n",
    "in_length = 80\n",
    "out_length = 20\n",
    "batch_size = 32\n",
    "emb_size = 100\n",
    "epochs = 20\n",
    "latent_dim = 256\n",
    "input_dim = 4096\n",
    "drop_rate = 0.5\n",
    "vocab_size = len(t.word_counts) + 1"
   ]
  },
  {
   "cell_type": "code",
   "execution_count": 12,
   "metadata": {},
   "outputs": [],
   "source": [
    "vocab2idx = dict((i, t.word_index[i]) for i in t.word_index)\n",
    "idx2vocab = dict((t.word_index[i], i) for i in t.word_index)\n",
    "idx2vocab[0] = \"<pad>\"\n",
    "idx2vocab[vocab_size] = \"<S>\"\n",
    "#idx2vocab[6224] = \"<E>\"\n",
    "#idx2vocab[6225] = \"<unk>\""
   ]
  },
  {
   "cell_type": "code",
   "execution_count": 13,
   "metadata": {},
   "outputs": [],
   "source": [
    "from keras.preprocessing.sequence import pad_sequences"
   ]
  },
  {
   "cell_type": "code",
   "execution_count": 14,
   "metadata": {},
   "outputs": [
    {
     "name": "stdout",
     "output_type": "stream",
     "text": [
      "max_seq_length: 42\n"
     ]
    },
    {
     "data": {
      "image/png": "[encoded data removed]",
      "text/plain": [
       "<Figure size 432x288 with 1 Axes>"
      ]
     },
     "metadata": {},
     "output_type": "display_data"
    }
   ],
   "source": [
    "# sequence length analysis\n",
    "\n",
    "seq_length = []\n",
    "max_seq_length = 0\n",
    "\n",
    "for i in train_label:\n",
    "    seqs = t.texts_to_sequences(i['caption']) # input a list of strings\n",
    "    for j in seqs:\n",
    "        seq_length.append(len(j))\n",
    "        max_seq_length = max(len(j), max_seq_length)\n",
    "for i in test_label:\n",
    "    seqs = t.texts_to_sequences(i['caption']) # input a list of strings\n",
    "    for j in seqs:\n",
    "        seq_length.append(len(j))\n",
    "        max_seq_length = max(len(j), max_seq_length)\n",
    "\n",
    "print ('max_seq_length:', max_seq_length)\n",
    "plt.hist(seq_length)\n",
    "plt.show()"
   ]
  },
  {
   "cell_type": "code",
   "execution_count": 15,
   "metadata": {},
   "outputs": [],
   "source": [
    "for i in train_label:\n",
    "    seqs = t.texts_to_sequences(i['caption']) # input a list of strings\n",
    "    seqs = [[vocab_size]+j for j in seqs] # put start symbol <S> at begining\n",
    "    pad_seqs = pad_sequences(seqs, maxlen=out_length, dtype='int32', padding='post', truncating='post', value=0.0)\n",
    "    i['seq'] = pad_seqs\n",
    "for i in test_label:\n",
    "    seqs = t.texts_to_sequences(i['caption']) # input a list of strings\n",
    "    seqs = [[vocab_size]+j for j in seqs] # put start symbol <S> at begining\n",
    "    pad_seqs = pad_sequences(seqs, maxlen=out_length, dtype='int32', padding='post', truncating='post', value=0.0)\n",
    "    i['seq'] = pad_seqs"
   ]
  },
  {
   "cell_type": "code",
   "execution_count": 16,
   "metadata": {},
   "outputs": [
    {
     "name": "stdout",
     "output_type": "stream",
     "text": [
      "train data (24232,) train target (24232, 2)\n"
     ]
    }
   ],
   "source": [
    "X = []\n",
    "Y = []\n",
    "for i, ii in enumerate(train_label):\n",
    "    for j, jj in enumerate(ii['seq']):\n",
    "        X.append(ii['id'])\n",
    "        Y.append([i, j])\n",
    "\n",
    "X = np.array(X)\n",
    "Y = np.array(Y)\n",
    "print ('train data', X.shape, 'train target', Y.shape)"
   ]
  },
  {
   "cell_type": "code",
   "execution_count": 17,
   "metadata": {},
   "outputs": [
    {
     "name": "stdout",
     "output_type": "stream",
     "text": [
      "test data (1674,) test target (1674, 2)\n"
     ]
    }
   ],
   "source": [
    "X_test = []\n",
    "Y_test = []\n",
    "for i, ii in enumerate(test_label):\n",
    "    for j, jj in enumerate(ii['seq']):\n",
    "        X_test.append(ii['id'])\n",
    "        Y_test.append([i, j])\n",
    "\n",
    "X_test = np.array(X_test)\n",
    "Y_test = np.array(Y_test)\n",
    "print ('test data', X_test.shape, 'test target', Y_test.shape)"
   ]
  },
  {
   "cell_type": "markdown",
   "metadata": {},
   "source": [
    "## model"
   ]
  },
  {
   "cell_type": "code",
   "execution_count": 18,
   "metadata": {},
   "outputs": [],
   "source": [
    "from keras.models import Model\n",
    "from keras.layers import Input, LSTM, Dense, RepeatVector, Dropout, Embedding, Concatenate, Permute, Reshape, merge\n",
    "from keras.layers.wrappers import TimeDistributed, Bidirectional"
   ]
  },
  {
   "cell_type": "raw",
   "metadata": {},
   "source": [
    "cnt = 0\n",
    "embedding_matrix = np.zeros((vocab_size+1, emb_size))\n",
    "for i in range(vocab_size+1):\n",
    "    if idx2vocab[i] in embeddings_index:\n",
    "        embedding_matrix[i] = embeddings_index[idx2vocab[i]]\n",
    "    else:\n",
    "        cnt += 1\n",
    "print (cnt, 'vocab has no embedding')"
   ]
  },
  {
   "cell_type": "code",
   "execution_count": 19,
   "metadata": {},
   "outputs": [],
   "source": [
    "cnt = 0\n",
    "def attention_3d_block(inputs):\n",
    "    global cnt\n",
    "    # inputs.shape = (batch_size, time_steps, input_dim)\n",
    "    input_dim = int(inputs.shape[2])\n",
    "    TIME_STEPS = int(inputs.shape[1]) if inputs.shape[1] == in_length else out_length\n",
    "    print (TIME_STEPS, input_dim)\n",
    "    \n",
    "    a = Permute((2, 1))(inputs)\n",
    "    #a = Reshape((input_dim, TIME_STEPS))(a) # this line is not useful. It's just to know which dimension is what.\n",
    "    a = Dense(TIME_STEPS, activation='softmax')(a)\n",
    "    #if SINGLE_ATTENTION_VECTOR:\n",
    "    #a = Lambda(lambda x: K.mean(x, axis=1), name='dim_reduction')(a)\n",
    "    #a = RepeatVector(input_dim)(a)\n",
    "    a_probs = Permute((2, 1), name='attention_vec_'+str(cnt))(a)\n",
    "    output_attention_mul = merge([inputs, a_probs], name='attention_mul_'+str(cnt), mode='mul')\n",
    "    cnt += 1\n",
    "    return output_attention_mul"
   ]
  },
  {
   "cell_type": "code",
   "execution_count": 20,
   "metadata": {},
   "outputs": [
    {
     "name": "stdout",
     "output_type": "stream",
     "text": [
      "80 4096\n",
      "WARNING:tensorflow:From /usr/local/lib/python3.6/site-packages/keras/backend/tensorflow_backend.py:1154: calling reduce_max (from tensorflow.python.ops.math_ops) with keep_dims is deprecated and will be removed in a future version.\n",
      "Instructions for updating:\n",
      "keep_dims is deprecated, use keepdims instead\n",
      "WARNING:tensorflow:From /usr/local/lib/python3.6/site-packages/keras/backend/tensorflow_backend.py:1188: calling reduce_sum (from tensorflow.python.ops.math_ops) with keep_dims is deprecated and will be removed in a future version.\n",
      "Instructions for updating:\n",
      "keep_dims is deprecated, use keepdims instead\n"
     ]
    },
    {
     "name": "stderr",
     "output_type": "stream",
     "text": [
      "/usr/local/lib/python3.6/site-packages/ipykernel_launcher.py:16: UserWarning: The `merge` function is deprecated and will be removed after 08/2017. Use instead layers from `keras.layers.merge`, e.g. `add`, `concatenate`, etc.\n",
      "  app.launch_new_instance()\n",
      "/usr/local/lib/python3.6/site-packages/keras/legacy/layers.py:458: UserWarning: The `Merge` layer is deprecated and will be removed after 08/2017. Use instead layers from `keras.layers.merge`, e.g. `add`, `concatenate`, etc.\n",
      "  name=name)\n"
     ]
    },
    {
     "name": "stdout",
     "output_type": "stream",
     "text": [
      "WARNING:tensorflow:From /usr/local/lib/python3.6/site-packages/keras/backend/tensorflow_backend.py:1290: calling reduce_mean (from tensorflow.python.ops.math_ops) with keep_dims is deprecated and will be removed in a future version.\n",
      "Instructions for updating:\n",
      "keep_dims is deprecated, use keepdims instead\n"
     ]
    }
   ],
   "source": [
    "encoder_inputs = Input(shape=(in_length, input_dim), name='encoder_input')\n",
    "encoder_inputs_attn = attention_3d_block(encoder_inputs)\n",
    "encoder_inputs_drop = Dropout(drop_rate)(encoder_inputs_attn)#####\n",
    "encoder = LSTM(latent_dim, return_state=True, name='encoder_lstm')\n",
    "encoder_outputs, state_h, state_c = encoder(encoder_inputs_drop)\n",
    "\n",
    "\n",
    "encoder_states = [state_h, state_c]\n",
    "\n",
    "decoder_inputs = Input(shape=(None, vocab_size+1), name='decoder_input')\n",
    "#decoder_inputs_attn = attention_3d_block(decoder_inputs)\n",
    "#e = Embedding(len(embedding_matrix), emb_size, weights=[embedding_matrix], input_length=out_length, trainable=False)(decoder_inputs)\n",
    "decoder_inputs_drop = Dropout(drop_rate)(decoder_inputs)#####\n",
    "decoder_lstm = LSTM(latent_dim, return_sequences=True, return_state=True, name='decoder_lstm')\n",
    "decoder_outputs, _, _ = decoder_lstm(decoder_inputs_drop, initial_state=encoder_states)\n",
    "#decoder_outputs_attn = attention_3d_block(decoder_outputs)\n",
    "#decoder_outputs_drop = Dropout(drop_rate)(decoder_outputs)\n",
    "decoder_dense = Dense(vocab_size+1, activation='softmax', name='softmax_dense')\n",
    "decoder_outputs = decoder_dense(decoder_outputs)\n",
    "\n",
    "model = Model([encoder_inputs, decoder_inputs], decoder_outputs)\n",
    "model.compile(optimizer='rmsprop', loss='categorical_crossentropy', metrics=['acc'])"
   ]
  },
  {
   "cell_type": "code",
   "execution_count": 21,
   "metadata": {},
   "outputs": [
    {
     "name": "stdout",
     "output_type": "stream",
     "text": [
      "____________________________________________________________________________________________________\n",
      "Layer (type)                     Output Shape          Param #     Connected to                     \n",
      "====================================================================================================\n",
      "encoder_input (InputLayer)       (None, 80, 4096)      0                                            \n",
      "____________________________________________________________________________________________________\n",
      "permute_1 (Permute)              (None, 4096, 80)      0           encoder_input[0][0]              \n",
      "____________________________________________________________________________________________________\n",
      "dense_1 (Dense)                  (None, 4096, 80)      6480        permute_1[0][0]                  \n",
      "____________________________________________________________________________________________________\n",
      "attention_vec_0 (Permute)        (None, 80, 4096)      0           dense_1[0][0]                    \n",
      "____________________________________________________________________________________________________\n",
      "attention_mul_0 (Merge)          (None, 80, 4096)      0           encoder_input[0][0]              \n",
      "                                                                   attention_vec_0[0][0]            \n",
      "____________________________________________________________________________________________________\n",
      "decoder_input (InputLayer)       (None, None, 6063)    0                                            \n",
      "____________________________________________________________________________________________________\n",
      "dropout_1 (Dropout)              (None, 80, 4096)      0           attention_mul_0[0][0]            \n",
      "____________________________________________________________________________________________________\n",
      "dropout_2 (Dropout)              (None, None, 6063)    0           decoder_input[0][0]              \n",
      "____________________________________________________________________________________________________\n",
      "encoder_lstm (LSTM)              [(None, 256), (None,  4457472     dropout_1[0][0]                  \n",
      "____________________________________________________________________________________________________\n",
      "decoder_lstm (LSTM)              [(None, None, 256), ( 6471680     dropout_2[0][0]                  \n",
      "                                                                   encoder_lstm[0][1]               \n",
      "                                                                   encoder_lstm[0][2]               \n",
      "____________________________________________________________________________________________________\n",
      "softmax_dense (Dense)            (None, None, 6063)    1558191     decoder_lstm[0][0]               \n",
      "====================================================================================================\n",
      "Total params: 12,493,823\n",
      "Trainable params: 12,493,823\n",
      "Non-trainable params: 0\n",
      "____________________________________________________________________________________________________\n"
     ]
    }
   ],
   "source": [
    "from keras.utils import plot_model\n",
    "plot_model(model, to_file='keras_model.png', show_shapes=True)\n",
    "model.summary()"
   ]
  },
  {
   "cell_type": "markdown",
   "metadata": {},
   "source": [
    "### Next: inference mode (sampling).\n",
    "\n",
    "1) encode input and retrieve initial decoder state\n",
    "\n",
    "2) run one step of decoder with this initial state\n",
    "and a \"start of sequence\" token as target.\n",
    "Output will be the next target token\n",
    "\n",
    "3) Repeat with the current target token and current states"
   ]
  },
  {
   "cell_type": "code",
   "execution_count": 22,
   "metadata": {},
   "outputs": [],
   "source": [
    "# Define sampling models\n",
    "\n",
    "encoder_model = Model(encoder_inputs, encoder_states)\n",
    "\n",
    "decoder_state_input_h = Input(shape=(latent_dim,))\n",
    "decoder_state_input_c = Input(shape=(latent_dim,))\n",
    "decoder_states_inputs = [decoder_state_input_h, decoder_state_input_c]\n",
    "decoder_outputs, state_h, state_c = decoder_lstm(decoder_inputs, initial_state=decoder_states_inputs)\n",
    "decoder_states = [state_h, state_c]\n",
    "decoder_outputs = decoder_dense(decoder_outputs)\n",
    "decoder_model = Model(\n",
    "    [decoder_inputs] + decoder_states_inputs,\n",
    "    [decoder_outputs] + decoder_states\n",
    ")"
   ]
  },
  {
   "cell_type": "code",
   "execution_count": 23,
   "metadata": {},
   "outputs": [
    {
     "name": "stdout",
     "output_type": "stream",
     "text": [
      "____________________________________________________________________________________________________\n",
      "Layer (type)                     Output Shape          Param #     Connected to                     \n",
      "====================================================================================================\n",
      "encoder_input (InputLayer)       (None, 80, 4096)      0                                            \n",
      "____________________________________________________________________________________________________\n",
      "permute_1 (Permute)              (None, 4096, 80)      0           encoder_input[0][0]              \n",
      "____________________________________________________________________________________________________\n",
      "dense_1 (Dense)                  (None, 4096, 80)      6480        permute_1[0][0]                  \n",
      "____________________________________________________________________________________________________\n",
      "attention_vec_0 (Permute)        (None, 80, 4096)      0           dense_1[0][0]                    \n",
      "____________________________________________________________________________________________________\n",
      "attention_mul_0 (Merge)          (None, 80, 4096)      0           encoder_input[0][0]              \n",
      "                                                                   attention_vec_0[0][0]            \n",
      "____________________________________________________________________________________________________\n",
      "dropout_1 (Dropout)              (None, 80, 4096)      0           attention_mul_0[0][0]            \n",
      "____________________________________________________________________________________________________\n",
      "encoder_lstm (LSTM)              [(None, 256), (None,  4457472     dropout_1[0][0]                  \n",
      "====================================================================================================\n",
      "Total params: 4,463,952\n",
      "Trainable params: 4,463,952\n",
      "Non-trainable params: 0\n",
      "____________________________________________________________________________________________________\n",
      "None\n"
     ]
    }
   ],
   "source": [
    "plot_model(encoder_model, to_file='encoder_model.png', show_shapes=True)\n",
    "print ( encoder_model.summary() )"
   ]
  },
  {
   "cell_type": "code",
   "execution_count": 24,
   "metadata": {},
   "outputs": [
    {
     "name": "stdout",
     "output_type": "stream",
     "text": [
      "____________________________________________________________________________________________________\n",
      "Layer (type)                     Output Shape          Param #     Connected to                     \n",
      "====================================================================================================\n",
      "decoder_input (InputLayer)       (None, None, 6063)    0                                            \n",
      "____________________________________________________________________________________________________\n",
      "input_1 (InputLayer)             (None, 256)           0                                            \n",
      "____________________________________________________________________________________________________\n",
      "input_2 (InputLayer)             (None, 256)           0                                            \n",
      "____________________________________________________________________________________________________\n",
      "decoder_lstm (LSTM)              [(None, None, 256), ( 6471680     decoder_input[0][0]              \n",
      "                                                                   input_1[0][0]                    \n",
      "                                                                   input_2[0][0]                    \n",
      "____________________________________________________________________________________________________\n",
      "softmax_dense (Dense)            (None, None, 6063)    1558191     decoder_lstm[1][0]               \n",
      "====================================================================================================\n",
      "Total params: 8,029,871\n",
      "Trainable params: 8,029,871\n",
      "Non-trainable params: 0\n",
      "____________________________________________________________________________________________________\n",
      "None\n"
     ]
    }
   ],
   "source": [
    "plot_model(decoder_model, to_file='decoder_model.png', show_shapes=True)\n",
    "print ( decoder_model.summary() )"
   ]
  },
  {
   "cell_type": "code",
   "execution_count": 25,
   "metadata": {},
   "outputs": [],
   "source": [
    "def decode_sequence(input_seq):\n",
    "    # Encode the input as state vectors.\n",
    "    states_value = encoder_model.predict(input_seq)\n",
    "\n",
    "    # Generate empty target sequence of length 1.\n",
    "    target_seq = np.zeros((1, 1, vocab_size+1))\n",
    "    # Populate the first character of target sequence with the start character.\n",
    "    target_seq[0, 0, vocab_size] = 1.\n",
    "    \n",
    "    # Sampling loop for a batch of sequences\n",
    "    # (to simplify, here we assume a batch of size 1).\n",
    "    stop_condition = False\n",
    "    decoded_sentence = []\n",
    "    while not stop_condition:\n",
    "        output_tokens, h, c = decoder_model.predict(\n",
    "            [target_seq] + states_value)\n",
    "\n",
    "        # Sample a token\n",
    "        sampled_index = np.argmax(output_tokens[0, -1, :])\n",
    "        sampled_word = idx2vocab[sampled_index]\n",
    "        decoded_sentence.append(sampled_word)\n",
    "\n",
    "        # Exit condition: either hit max length or find stop character.\n",
    "        # or sampled_word == '<pad>'\n",
    "        if (len(decoded_sentence) >= out_length):\n",
    "            stop_condition = True\n",
    "\n",
    "        # Update the target sequence (of length 1).\n",
    "        target_seq = np.zeros((1, 1, vocab_size+1))\n",
    "        target_seq[0, 0, sampled_index] = 1.\n",
    "\n",
    "        # Update states\n",
    "        states_value = [h, c]\n",
    "\n",
    "    return decoded_sentence"
   ]
  },
  {
   "cell_type": "code",
   "execution_count": 26,
   "metadata": {},
   "outputs": [],
   "source": [
    "def decode_sequence_reduce(input_seq):\n",
    "    states_value = encoder_model.predict(input_seq)\n",
    "    target_seq = np.zeros((1, 1, vocab_size+1))\n",
    "    target_seq[0, 0, vocab_size] = 1.\n",
    "    \n",
    "    stop_condition = False\n",
    "    decoded_sentence = []\n",
    "    last_word = \"\"\n",
    "    last_last_word = \"\"\n",
    "    while not stop_condition:\n",
    "        output_tokens, h, c = decoder_model.predict([target_seq] + states_value)\n",
    "\n",
    "        sampled_index = np.argmax(output_tokens[0, -1, :])\n",
    "        sampled_word = idx2vocab[sampled_index]\n",
    "        \n",
    "        if sampled_word == last_word or sampled_word == last_last_word:\n",
    "            output_tokens[0, -1, sampled_index] = 0\n",
    "            sampled_index = np.argmax(output_tokens[0, -1, :])\n",
    "            sampled_word = idx2vocab[sampled_index]\n",
    "        if sampled_word == last_word or sampled_word == last_last_word:\n",
    "            output_tokens[0, -1, sampled_index] = 0\n",
    "            sampled_index = np.argmax(output_tokens[0, -1, :])\n",
    "            sampled_word = idx2vocab[sampled_index]\n",
    "        \n",
    "        last_last_word = last_word\n",
    "        last_word = sampled_word\n",
    "        \n",
    "            \n",
    "        decoded_sentence.append(sampled_word)\n",
    "\n",
    "        if (len(decoded_sentence) >= out_length):# or sampled_word == \"<pad>\":\n",
    "            stop_condition = True\n",
    "        \n",
    "\n",
    "        target_seq = np.zeros((1, 1, vocab_size+1))\n",
    "        target_seq[0, 0, sampled_index] = 1.\n",
    "\n",
    "        states_value = [h, c]\n",
    "\n",
    "    return decoded_sentence"
   ]
  },
  {
   "cell_type": "code",
   "execution_count": 27,
   "metadata": {},
   "outputs": [],
   "source": [
    "def make_node(state, prob, last, word, idx):\n",
    "    seq = np.zeros((1, 1, vocab_size+1))\n",
    "    seq[0, 0, idx] = 1.\n",
    "    l = 0 if last == None else last['len']+1\n",
    "    prob = 0 if last == None else prob+last['prob']\n",
    "    node = {'state':state, 'seq':seq, 'prob':prob, 'last':last, 'len':l, 'word':word, 'idx':idx, 'next':[]}\n",
    "    return node"
   ]
  },
  {
   "cell_type": "code",
   "execution_count": 28,
   "metadata": {},
   "outputs": [],
   "source": [
    "def decode_sequence_beam(input_seq):\n",
    "    states_value = encoder_model.predict(input_seq)\n",
    "    init_node = make_node(states_value, 0, None, \"<S>\", vocab_size)\n",
    "    queue = [init_node]\n",
    "    leaf_nodes = []\n",
    "    \n",
    "    stop_condition = False\n",
    "    decoded_sentence = []\n",
    "    \n",
    "    while len(queue) != 0:\n",
    "        #print (len(queue), end='\\r')\n",
    "        node = queue[0]\n",
    "        if node['len'] >= out_length or node['word'] == '<pad>':\n",
    "            leaf_nodes.append(node)\n",
    "            queue = [] if len(queue) == 1 else queue[1:]\n",
    "            break\n",
    "        target_seq = node['seq']\n",
    "        states_value = node['state']\n",
    "        output_tokens, h, c = decoder_model.predict([target_seq] + states_value)\n",
    "        for j in range(2):\n",
    "            sampled_index = np.argmax(output_tokens[0, -1, :])\n",
    "            sampled_word = idx2vocab[sampled_index]\n",
    "            if sampled_word != node['word']:\n",
    "                new_node = make_node([h, c], output_tokens[0, -1, sampled_index], node, sampled_word, sampled_index)\n",
    "                node['next'].append(new_node)\n",
    "                queue.append(new_node)\n",
    "            output_tokens[0, -1, sampled_index] = 0\n",
    "        queue = queue[1:]\n",
    "    \n",
    "    # start search\n",
    "    max_prob = 0\n",
    "    for node in leaf_nodes:\n",
    "        tmp = node['prob']/node['len']\n",
    "        if tmp > max_prob:\n",
    "            max_prob = tmp\n",
    "            target_node = node\n",
    "    \n",
    "    while target_node['last'] != None:\n",
    "        decoded_sentence.append(target_node['word'])\n",
    "        target_node = target_node['last']\n",
    "    \n",
    "\n",
    "    return decoded_sentence[::-1]"
   ]
  },
  {
   "cell_type": "markdown",
   "metadata": {},
   "source": [
    "## bleu"
   ]
  },
  {
   "cell_type": "code",
   "execution_count": 29,
   "metadata": {},
   "outputs": [],
   "source": [
    "from hw2_1_data.bleu_eval import BLEU"
   ]
  },
  {
   "cell_type": "raw",
   "metadata": {},
   "source": [
    "def gen_output(data, label):\n",
    "    with open(\"output_keras.txt\", 'w', encoding='utf-8') as f:\n",
    "        for i in label:\n",
    "            input_seq = np.array([data[i['id']]])\n",
    "            decoded_sentence = decode_sequence(input_seq)\n",
    "            out = []\n",
    "            for j in decoded_sentence:\n",
    "                if j == '<pad>' or j == \"<S>\":\n",
    "                    continue\n",
    "                out.append(j)\n",
    "            if len(out) == 0:\n",
    "                out.append('a')\n",
    "                \n",
    "            out = i['id'] + ',' + \" \".join(out) + '\\n'\n",
    "            f.write(out)"
   ]
  },
  {
   "cell_type": "code",
   "execution_count": 30,
   "metadata": {},
   "outputs": [],
   "source": [
    "# gen output reduce\n",
    "def gen_output(data, label, decode):\n",
    "    with open(\"output_keras.txt\", 'w', encoding='utf-8') as f:\n",
    "        for i in label:\n",
    "            input_seq = np.array([data[i['id']]])\n",
    "            decoded_sentence = decode_sequence_reduce(input_seq)\n",
    "            #print (decoded_sentence)\n",
    "            out = []\n",
    "            last = \"\"\n",
    "            for j in decoded_sentence:\n",
    "                if j == \"<S>\" or j == last:\n",
    "                    continue\n",
    "                elif j == '<pad>':\n",
    "                    break\n",
    "                last = j\n",
    "                out.append(j)\n",
    "            \n",
    "                \n",
    "            out = i['id'] + ',' + \" \".join(out) + '\\n'\n",
    "            f.write(out)\n",
    "\n",
    "#gen_output_reduce(test_data, test_label)\n",
    "#cal_bleu(test_label)"
   ]
  },
  {
   "cell_type": "code",
   "execution_count": 31,
   "metadata": {},
   "outputs": [],
   "source": [
    "def cal_bleu(label):\n",
    "    output = \"output_keras.txt\"\n",
    "    result = {}\n",
    "    with open(output, 'r', encoding='utf-8') as f:\n",
    "        for line in f:\n",
    "            line = line.rstrip()\n",
    "            comma = line.index(',')\n",
    "            test_id = line[:comma]\n",
    "            caption = line[comma+1:]\n",
    "            result[test_id] = caption\n",
    "    #count by the method described in the paper https://aclanthology.info/pdf/P/P02/P02-1040.pdf\n",
    "    bleu=[]\n",
    "    for item in label:\n",
    "        score_per_video = []\n",
    "        captions = [x.rstrip('.') for x in item['caption']]\n",
    "        \n",
    "        score_per_video.append(BLEU(result[item['id']],captions,True))\n",
    "        bleu.append(score_per_video[0])\n",
    "    average = sum(bleu) / len(bleu)\n",
    "    #print(\"Average bleu score is \" + str(average))\n",
    "    return average"
   ]
  },
  {
   "cell_type": "code",
   "execution_count": 32,
   "metadata": {},
   "outputs": [],
   "source": [
    "def show_outputs_and_score(label, n):\n",
    "    output = \"output_keras.txt\"\n",
    "    result = {}\n",
    "    with open(output, 'r', encoding='utf-8') as f:\n",
    "        for line in f:\n",
    "            line = line.rstrip()\n",
    "            comma = line.index(',')\n",
    "            test_id = line[:comma]\n",
    "            caption = line[comma+1:]\n",
    "            result[test_id] = caption\n",
    "    #count by the method described in the paper https://aclanthology.info/pdf/P/P02/P02-1040.pdf\n",
    "    bleu=[]\n",
    "    for item in label[:n]:\n",
    "        captions = [x.rstrip('.') for x in item['caption']]\n",
    "        b = BLEU(result[item['id']],captions,True)\n",
    "        bleu.append(b)\n",
    "        print (round(b, 2), result[item['id']])\n",
    "\n",
    "    average = sum(bleu) / len(bleu)\n",
    "    #print(\"Average bleu score is \" + str(average))\n",
    "    print ('avg', average)"
   ]
  },
  {
   "cell_type": "markdown",
   "metadata": {},
   "source": [
    "## data generators"
   ]
  },
  {
   "cell_type": "code",
   "execution_count": 33,
   "metadata": {},
   "outputs": [],
   "source": [
    "from keras.utils import to_categorical"
   ]
  },
  {
   "cell_type": "code",
   "execution_count": 34,
   "metadata": {},
   "outputs": [],
   "source": [
    "def idx2data(idx, x, y, data, label):\n",
    "    # x[idx] is id, y[idx][0] is label index, y[idx][1] is seq index\n",
    "    encoder_input = data[x[idx]]\n",
    "    decoder_input = label[y[idx][0]]['seq'][y[idx][1]]\n",
    "    decoder_target = np.concatenate((decoder_input[1:], np.array([0], dtype='int32')))\n",
    "    return encoder_input, decoder_input, decoder_target"
   ]
  },
  {
   "cell_type": "code",
   "execution_count": 35,
   "metadata": {},
   "outputs": [],
   "source": [
    "def data_generator(data, targets):\n",
    "    global train_data, train_label, batch_size, voacb_size\n",
    "    idx = np.arange(len(data))\n",
    "    while True:\n",
    "        np.random.shuffle(idx)\n",
    "        batches = [idx[range(batch_size*i, min(len(data), batch_size*(i+1)))] for i in range(len(data)//batch_size+1)] \n",
    "        \n",
    "        for i in batches:\n",
    "            encoder_inputs, decoder_inputs, decoder_targets = [], [], []\n",
    "            for j in i:\n",
    "                x, y, z = idx2data(j, data, targets, train_data, train_label)\n",
    "                encoder_inputs.append(x)\n",
    "                decoder_inputs.append(y)\n",
    "                decoder_targets.append(z)\n",
    "            \n",
    "            encoder_inputs = np.array(encoder_inputs)\n",
    "            decoder_inputs = to_categorical(decoder_inputs, num_classes=vocab_size+1).reshape(-1, out_length, vocab_size+1)\n",
    "            decoder_targets = to_categorical(decoder_targets, num_classes=vocab_size+1).reshape(-1, out_length, vocab_size+1)\n",
    "            yield ([encoder_inputs, decoder_inputs], decoder_targets)"
   ]
  },
  {
   "cell_type": "code",
   "execution_count": 36,
   "metadata": {},
   "outputs": [],
   "source": [
    "def validation_generator(data, targets):\n",
    "    global test_data, test_label, batch_size, voacb_size\n",
    "    idx = np.arange(len(data))\n",
    "    while True:\n",
    "        np.random.shuffle(idx)\n",
    "        batches = [idx[range(batch_size*i, min(len(data), batch_size*(i+1)))] for i in range(len(data)//batch_size+1)] \n",
    "        \n",
    "        for i in batches:\n",
    "            encoder_inputs, decoder_inputs, decoder_targets = [], [], []\n",
    "            for j in i:\n",
    "                x, y, z = idx2data(j, data, targets, test_data, test_label)\n",
    "                encoder_inputs.append(x)\n",
    "                decoder_inputs.append(y)\n",
    "                decoder_targets.append(z)\n",
    "            \n",
    "            encoder_inputs = np.array(encoder_inputs)\n",
    "            decoder_inputs = to_categorical(decoder_inputs, num_classes=vocab_size+1).reshape(-1, out_length, vocab_size+1)\n",
    "            decoder_targets = to_categorical(decoder_targets, num_classes=vocab_size+1).reshape(-1, out_length, vocab_size+1)\n",
    "            yield ([encoder_inputs, decoder_inputs], decoder_targets)"
   ]
  },
  {
   "cell_type": "markdown",
   "metadata": {},
   "source": [
    "## callbacks"
   ]
  },
  {
   "cell_type": "code",
   "execution_count": 37,
   "metadata": {},
   "outputs": [],
   "source": [
    "from keras.callbacks import ModelCheckpoint, EarlyStopping, Callback"
   ]
  },
  {
   "cell_type": "code",
   "execution_count": 38,
   "metadata": {},
   "outputs": [],
   "source": [
    "class MyCallback(Callback):\n",
    "    def __init__(self):\n",
    "        self.best_score = 0\n",
    "        self.bleu_history = {'train':[], 'test':[]}\n",
    "        self.saved_model = \"\"\n",
    "        \n",
    "    def on_epoch_end(self, epoch, logs={}):\n",
    "        \n",
    "        gen_output(train_data, train_label, decode_sequence_reduce)\n",
    "        show_outputs_and_score(train_label, 10)\n",
    "        try:\n",
    "            score = cal_bleu(train_label)\n",
    "            score = round(score, 3)\n",
    "            self.bleu_history['train'].append(score)\n",
    "        except ZeroDivisionError:\n",
    "            return\n",
    "        print('\\nTrain Bleu score: {}'.format(score))\n",
    "        print ()\n",
    "        \n",
    "        gen_output(test_data, test_label, decode_sequence_reduce)\n",
    "        show_outputs_and_score(test_label, 10)\n",
    "        try:\n",
    "            score = cal_bleu(test_label)\n",
    "            score = round(score, 3)\n",
    "            self.bleu_history['test'].append(score)\n",
    "        except ZeroDivisionError:\n",
    "            return\n",
    "        print('Test Bleu score: {}\\n'.format(score))\n",
    "        \n",
    "        if score > self.best_score:\n",
    "            model.save_weights('model_keras_{}.hdf5'.format(score))\n",
    "            self.saved_model = 'model_keras_{}.hdf5'.format(score)\n",
    "            if self.best_score != 0:\n",
    "                try:\n",
    "                    os.remove('model_keras_{}.hdf5'.format(self.best_score))\n",
    "                except Exception as e:\n",
    "                    print (str(e))\n",
    "                    print ('model_keras_{}.hdf5'.format(self.best_score), 'not found')\n",
    "            self.best_score = score"
   ]
  },
  {
   "cell_type": "code",
   "execution_count": 39,
   "metadata": {},
   "outputs": [],
   "source": [
    "#checkpoint = ModelCheckpoint(\"model.hdf5\", monitor='val_acc', save_best_only=True)\n",
    "earlystop = EarlyStopping(monitor='val_acc', patience=5)\n",
    "mycallback = MyCallback()\n",
    "callbacks_list = [mycallback]"
   ]
  },
  {
   "cell_type": "markdown",
   "metadata": {},
   "source": [
    "## inference mode training"
   ]
  },
  {
   "cell_type": "code",
   "execution_count": 40,
   "metadata": {},
   "outputs": [],
   "source": [
    "from keras.layers import Lambda\n",
    "from keras import backend as K\n",
    "from keras import optimizers"
   ]
  },
  {
   "cell_type": "code",
   "execution_count": null,
   "metadata": {},
   "outputs": [],
   "source": []
  },
  {
   "cell_type": "code",
   "execution_count": 49,
   "metadata": {},
   "outputs": [
    {
     "name": "stdout",
     "output_type": "stream",
     "text": [
      "____________________________________________________________________________________________________\n",
      "Layer (type)                     Output Shape          Param #     Connected to                     \n",
      "====================================================================================================\n",
      "encoder_input (InputLayer)       (None, 80, 4096)      0                                            \n",
      "____________________________________________________________________________________________________\n",
      "permute_1 (Permute)              (None, 4096, 80)      0           encoder_input[0][0]              \n",
      "____________________________________________________________________________________________________\n",
      "dense_1 (Dense)                  (None, 4096, 80)      6480        permute_1[0][0]                  \n",
      "____________________________________________________________________________________________________\n",
      "attention_vec_0 (Permute)        (None, 80, 4096)      0           dense_1[0][0]                    \n",
      "____________________________________________________________________________________________________\n",
      "attention_mul_0 (Merge)          (None, 80, 4096)      0           encoder_input[0][0]              \n",
      "                                                                   attention_vec_0[0][0]            \n",
      "____________________________________________________________________________________________________\n",
      "dropout_1 (Dropout)              (None, 80, 4096)      0           attention_mul_0[0][0]            \n",
      "____________________________________________________________________________________________________\n",
      "decoer_inputs_inf (InputLayer)   (None, 1, 6063)       0                                            \n",
      "____________________________________________________________________________________________________\n",
      "encoder_lstm (LSTM)              [(None, 256), (None,  4457472     dropout_1[0][0]                  \n",
      "____________________________________________________________________________________________________\n",
      "decoder_lstm (LSTM)              multiple              6471680     decoer_inputs_inf[0][0]          \n",
      "                                                                   encoder_lstm[4][1]               \n",
      "                                                                   encoder_lstm[4][2]               \n",
      "                                                                   lambda_24[0][0]                  \n",
      "                                                                   decoder_lstm[62][1]              \n",
      "                                                                   decoder_lstm[62][2]              \n",
      "                                                                   lambda_25[0][0]                  \n",
      "                                                                   decoder_lstm[63][1]              \n",
      "                                                                   decoder_lstm[63][2]              \n",
      "                                                                   lambda_26[0][0]                  \n",
      "                                                                   decoder_lstm[64][1]              \n",
      "                                                                   decoder_lstm[64][2]              \n",
      "                                                                   lambda_27[0][0]                  \n",
      "                                                                   decoder_lstm[65][1]              \n",
      "                                                                   decoder_lstm[65][2]              \n",
      "                                                                   lambda_28[0][0]                  \n",
      "                                                                   decoder_lstm[66][1]              \n",
      "                                                                   decoder_lstm[66][2]              \n",
      "                                                                   lambda_29[0][0]                  \n",
      "                                                                   decoder_lstm[67][1]              \n",
      "                                                                   decoder_lstm[67][2]              \n",
      "                                                                   lambda_30[0][0]                  \n",
      "                                                                   decoder_lstm[68][1]              \n",
      "                                                                   decoder_lstm[68][2]              \n",
      "                                                                   lambda_31[0][0]                  \n",
      "                                                                   decoder_lstm[69][1]              \n",
      "                                                                   decoder_lstm[69][2]              \n",
      "                                                                   lambda_32[0][0]                  \n",
      "                                                                   decoder_lstm[70][1]              \n",
      "                                                                   decoder_lstm[70][2]              \n",
      "                                                                   lambda_33[0][0]                  \n",
      "                                                                   decoder_lstm[71][1]              \n",
      "                                                                   decoder_lstm[71][2]              \n",
      "                                                                   lambda_34[0][0]                  \n",
      "                                                                   decoder_lstm[72][1]              \n",
      "                                                                   decoder_lstm[72][2]              \n",
      "                                                                   lambda_35[0][0]                  \n",
      "                                                                   decoder_lstm[73][1]              \n",
      "                                                                   decoder_lstm[73][2]              \n",
      "                                                                   lambda_36[0][0]                  \n",
      "                                                                   decoder_lstm[74][1]              \n",
      "                                                                   decoder_lstm[74][2]              \n",
      "                                                                   lambda_37[0][0]                  \n",
      "                                                                   decoder_lstm[75][1]              \n",
      "                                                                   decoder_lstm[75][2]              \n",
      "                                                                   lambda_38[0][0]                  \n",
      "                                                                   decoder_lstm[76][1]              \n",
      "                                                                   decoder_lstm[76][2]              \n",
      "                                                                   lambda_39[0][0]                  \n",
      "                                                                   decoder_lstm[77][1]              \n",
      "                                                                   decoder_lstm[77][2]              \n",
      "                                                                   lambda_40[0][0]                  \n",
      "                                                                   decoder_lstm[78][1]              \n",
      "                                                                   decoder_lstm[78][2]              \n",
      "                                                                   lambda_41[0][0]                  \n",
      "                                                                   decoder_lstm[79][1]              \n",
      "                                                                   decoder_lstm[79][2]              \n",
      "                                                                   lambda_42[0][0]                  \n",
      "                                                                   decoder_lstm[80][1]              \n",
      "                                                                   decoder_lstm[80][2]              \n",
      "____________________________________________________________________________________________________\n",
      "softmax_dense (Dense)            multiple              1558191     decoder_lstm[62][0]              \n",
      "                                                                   decoder_lstm[63][0]              \n",
      "                                                                   decoder_lstm[64][0]              \n",
      "                                                                   decoder_lstm[65][0]              \n",
      "                                                                   decoder_lstm[66][0]              \n",
      "                                                                   decoder_lstm[67][0]              \n",
      "                                                                   decoder_lstm[68][0]              \n",
      "                                                                   decoder_lstm[69][0]              \n",
      "                                                                   decoder_lstm[70][0]              \n",
      "                                                                   decoder_lstm[71][0]              \n",
      "                                                                   decoder_lstm[72][0]              \n",
      "                                                                   decoder_lstm[73][0]              \n",
      "                                                                   decoder_lstm[74][0]              \n",
      "                                                                   decoder_lstm[75][0]              \n",
      "                                                                   decoder_lstm[76][0]              \n",
      "                                                                   decoder_lstm[77][0]              \n",
      "                                                                   decoder_lstm[78][0]              \n",
      "                                                                   decoder_lstm[79][0]              \n",
      "                                                                   decoder_lstm[80][0]              \n",
      "                                                                   decoder_lstm[81][0]              \n",
      "____________________________________________________________________________________________________\n",
      "lambda_24 (Lambda)               (None, 1, 6063)       0           softmax_dense[62][0]             \n",
      "____________________________________________________________________________________________________\n",
      "lambda_25 (Lambda)               (None, 1, 6063)       0           softmax_dense[63][0]             \n",
      "____________________________________________________________________________________________________\n",
      "lambda_26 (Lambda)               (None, 1, 6063)       0           softmax_dense[64][0]             \n",
      "____________________________________________________________________________________________________\n",
      "lambda_27 (Lambda)               (None, 1, 6063)       0           softmax_dense[65][0]             \n",
      "____________________________________________________________________________________________________\n",
      "lambda_28 (Lambda)               (None, 1, 6063)       0           softmax_dense[66][0]             \n",
      "____________________________________________________________________________________________________\n",
      "lambda_29 (Lambda)               (None, 1, 6063)       0           softmax_dense[67][0]             \n",
      "____________________________________________________________________________________________________\n",
      "lambda_30 (Lambda)               (None, 1, 6063)       0           softmax_dense[68][0]             \n",
      "____________________________________________________________________________________________________\n",
      "lambda_31 (Lambda)               (None, 1, 6063)       0           softmax_dense[69][0]             \n",
      "____________________________________________________________________________________________________\n",
      "lambda_32 (Lambda)               (None, 1, 6063)       0           softmax_dense[70][0]             \n",
      "____________________________________________________________________________________________________\n",
      "lambda_33 (Lambda)               (None, 1, 6063)       0           softmax_dense[71][0]             \n",
      "____________________________________________________________________________________________________\n",
      "lambda_34 (Lambda)               (None, 1, 6063)       0           softmax_dense[72][0]             \n",
      "____________________________________________________________________________________________________\n",
      "lambda_35 (Lambda)               (None, 1, 6063)       0           softmax_dense[73][0]             \n",
      "____________________________________________________________________________________________________\n",
      "lambda_36 (Lambda)               (None, 1, 6063)       0           softmax_dense[74][0]             \n",
      "____________________________________________________________________________________________________\n",
      "lambda_37 (Lambda)               (None, 1, 6063)       0           softmax_dense[75][0]             \n",
      "____________________________________________________________________________________________________\n",
      "lambda_38 (Lambda)               (None, 1, 6063)       0           softmax_dense[76][0]             \n",
      "____________________________________________________________________________________________________\n",
      "lambda_39 (Lambda)               (None, 1, 6063)       0           softmax_dense[77][0]             \n",
      "____________________________________________________________________________________________________\n",
      "lambda_40 (Lambda)               (None, 1, 6063)       0           softmax_dense[78][0]             \n",
      "____________________________________________________________________________________________________\n",
      "lambda_41 (Lambda)               (None, 1, 6063)       0           softmax_dense[79][0]             \n",
      "____________________________________________________________________________________________________\n",
      "lambda_42 (Lambda)               (None, 1, 6063)       0           softmax_dense[80][0]             \n",
      "____________________________________________________________________________________________________\n",
      "lambda_44 (Lambda)               (None, 20, 6063)      0           softmax_dense[62][0]             \n",
      "                                                                   softmax_dense[63][0]             \n",
      "                                                                   softmax_dense[64][0]             \n",
      "                                                                   softmax_dense[65][0]             \n",
      "                                                                   softmax_dense[66][0]             \n",
      "                                                                   softmax_dense[67][0]             \n",
      "                                                                   softmax_dense[68][0]             \n",
      "                                                                   softmax_dense[69][0]             \n",
      "                                                                   softmax_dense[70][0]             \n",
      "                                                                   softmax_dense[71][0]             \n",
      "                                                                   softmax_dense[72][0]             \n",
      "                                                                   softmax_dense[73][0]             \n",
      "                                                                   softmax_dense[74][0]             \n",
      "                                                                   softmax_dense[75][0]             \n",
      "                                                                   softmax_dense[76][0]             \n",
      "                                                                   softmax_dense[77][0]             \n",
      "                                                                   softmax_dense[78][0]             \n",
      "                                                                   softmax_dense[79][0]             \n",
      "                                                                   softmax_dense[80][0]             \n",
      "                                                                   softmax_dense[81][0]             \n",
      "====================================================================================================\n",
      "Total params: 12,493,823\n",
      "Trainable params: 12,493,823\n",
      "Non-trainable params: 0\n",
      "____________________________________________________________________________________________________\n"
     ]
    }
   ],
   "source": [
    "encoder_outputs, state_h, state_c = encoder(encoder_inputs_drop)\n",
    "states = [state_h, state_c]\n",
    "decoder_inputs = Input(shape=(1, vocab_size+1), name='decoer_inputs_inf')\n",
    "\n",
    "\n",
    "# reinjecting the decoder's predictions into the decoder's input, just like we were doing for inference.\n",
    "all_outputs = []\n",
    "inputs = decoder_inputs\n",
    "\n",
    "for _ in range(out_length):\n",
    "    # Run the decoder on one timestep\n",
    "    outputs, state_h, state_c = decoder_lstm(inputs, initial_state=states)\n",
    "    outputs = decoder_dense(outputs) ## softmax\n",
    "    argmax_outputs = Lambda(lambda x: K.one_hot(K.argmax(x, axis=2), vocab_size+1))(outputs)\n",
    "    # Store the current prediction (we will concatenate all predictions later)\n",
    "    all_outputs.append(outputs)\n",
    "    # Reinject the outputs as inputs for the next loop iteration\n",
    "    # as well as update the states\n",
    "    inputs = argmax_outputs\n",
    "    states = [state_h, state_c]\n",
    "\n",
    "decoder_outputs = Lambda(lambda x: K.concatenate(x, axis=1))(all_outputs)\n",
    "\n",
    "opt = optimizers.RMSprop(lr=0.0001)\n",
    "model_inf = Model([encoder_inputs, decoder_inputs], decoder_outputs)\n",
    "model_inf.compile(optimizer=opt, loss='categorical_crossentropy', metrics=['acc'])\n",
    "model_inf.summary()\n",
    "plot_model(model, to_file='keras_model_inf.png', show_shapes=True)"
   ]
  },
  {
   "cell_type": "raw",
   "metadata": {},
   "source": [
    "print (model_inf.layers[3].name == model.layers[3].name)\n",
    "for i, j in zip(model.layers[3].get_weights(), model_inf.layers[3].get_weights()):\n",
    "    print ((i == j).all())"
   ]
  },
  {
   "cell_type": "markdown",
   "metadata": {},
   "source": [
    "#### Prepare decoder input data that just contains the start character\n",
    "\n",
    "decoder_input_data = np.zeros((num_samples, 1, num_decoder_tokens))\n",
    "\n",
    "decoder_input_data[:, 0, target_token_index['\\t']] = 1."
   ]
  },
  {
   "cell_type": "code",
   "execution_count": 42,
   "metadata": {},
   "outputs": [],
   "source": [
    "def idx2inf_data(idx, x, y, data, label):\n",
    "    # x[idx] is id, y[idx][0] is label index, y[idx][1] is seq index\n",
    "    encoder_input = data[x[idx]]\n",
    "    decoder_input = label[y[idx][0]]['seq'][y[idx][1]]\n",
    "    decoder_target = np.concatenate((decoder_input[1:], np.array([0], dtype='int32')))\n",
    "    return encoder_input, decoder_input[0], decoder_target"
   ]
  },
  {
   "cell_type": "code",
   "execution_count": 43,
   "metadata": {},
   "outputs": [],
   "source": [
    "def inf_data_generator(data, targets):\n",
    "    global train_data, train_label, batch_size, voacb_size\n",
    "    idx = np.arange(len(data))\n",
    "    while True:\n",
    "        np.random.shuffle(idx)\n",
    "        batches = [idx[range(batch_size*i, min(len(data), batch_size*(i+1)))] for i in range(len(data)//batch_size+1)] \n",
    "        \n",
    "        for i in batches:\n",
    "            encoder_inputs, decoder_inputs, decoder_targets = [], [], []\n",
    "            for j in i:\n",
    "                x, y, z = idx2inf_data(j, data, targets, train_data, train_label)\n",
    "                encoder_inputs.append(x)\n",
    "                decoder_inputs.append(y)\n",
    "                decoder_targets.append(z)\n",
    "            \n",
    "            encoder_inputs = np.array(encoder_inputs)\n",
    "            decoder_inputs = to_categorical(decoder_inputs, num_classes=vocab_size+1).reshape(-1, 1, vocab_size+1)\n",
    "            decoder_targets = to_categorical(decoder_targets, num_classes=vocab_size+1).reshape(-1, out_length, vocab_size+1)\n",
    "            #decoder_targets = np.expand_dims(decoder_targets, axis=1)\n",
    "            #print (encoder_inputs.shape, decoder_inputs.shape, decoder_targets.shape)\n",
    "            yield ([encoder_inputs, decoder_inputs], decoder_targets)"
   ]
  },
  {
   "cell_type": "code",
   "execution_count": 44,
   "metadata": {},
   "outputs": [],
   "source": [
    "def inf_validation_generator(data, targets):\n",
    "    global test_data, test_label, batch_size, voacb_size\n",
    "    idx = np.arange(len(data))\n",
    "    while True:\n",
    "        np.random.shuffle(idx)\n",
    "        batches = [idx[range(batch_size*i, min(len(data), batch_size*(i+1)))] for i in range(len(data)//batch_size+1)] \n",
    "        \n",
    "        for i in batches:\n",
    "            encoder_inputs, decoder_inputs, decoder_targets = [], [], []\n",
    "            for j in i:\n",
    "                x, y, z = idx2inf_data(j, data, targets, test_data, test_label)\n",
    "                encoder_inputs.append(x)\n",
    "                decoder_inputs.append(y)\n",
    "                decoder_targets.append(z)\n",
    "            \n",
    "            encoder_inputs = np.array(encoder_inputs)\n",
    "            decoder_inputs = to_categorical(decoder_inputs, num_classes=vocab_size+1).reshape(-1, 1, vocab_size+1)\n",
    "            decoder_targets = to_categorical(decoder_targets, num_classes=vocab_size+1).reshape(-1, out_length, vocab_size+1)\n",
    "            #decoder_targets = np.expand_dims(decoder_targets, axis=1)\n",
    "            yield ([encoder_inputs, decoder_inputs], decoder_targets)"
   ]
  },
  {
   "cell_type": "markdown",
   "metadata": {},
   "source": [
    "## Train"
   ]
  },
  {
   "cell_type": "code",
   "execution_count": 45,
   "metadata": {},
   "outputs": [],
   "source": [
    "metrics = ['loss', 'val_loss', 'acc', 'val_acc']\n",
    "myhistory = {i:[] for i in metrics}"
   ]
  },
  {
   "cell_type": "code",
   "execution_count": null,
   "metadata": {
    "scrolled": true
   },
   "outputs": [
    {
     "name": "stdout",
     "output_type": "stream",
     "text": [
      "Epoch 1/15\n",
      "757/758 [============================>.] - ETA: 0s - loss: 1.5970 - acc: 0.73281.0 a woman is walking a horse\n",
      "0.86 a man is pouring into a bowl\n",
      "1.0 a loris is eating a food\n",
      "1.0 a person is seasoning eggs\n",
      "0.8 a person is cutting a\n",
      "0.83 a are is running a the\n",
      "1.0 a man is talking\n",
      "0.83 a woman is peeling a garlic\n",
      "1.0 a man is doing\n",
      "1.0 a man is doing ups\n",
      "avg 0.9323809523809523\n",
      "\n",
      "Train Bleu score: 0.927\n",
      "\n",
      "0.83 a man is peeling a of\n",
      "0.5 a man is shooting a water\n",
      "0.83 a man is doing a on\n",
      "0.67 a man is playing a toy\n",
      "0.8 a man is a on\n",
      "0.5 a dog is eating a from\n",
      "0.83 a baby is eating a baby\n",
      "0.29 a panda is walking on a snow\n",
      "0.67 a man is doing on a\n",
      "0.83 a man is putting a box\n",
      "avg 0.6752380952380952\n",
      "Test Bleu score: 0.684\n",
      "\n",
      "758/758 [==============================] - 220s - loss: 1.5970 - acc: 0.7328 - val_loss: 1.7403 - val_acc: 0.7173\n",
      "Epoch 2/15\n",
      "757/758 [============================>.] - ETA: 0s - loss: 1.3733 - acc: 0.75690.83 a woman is a woman horse\n",
      "1.0 a man is cutting butter into a bowl\n",
      "1.0 a animal is eating\n",
      "1.0 a person is seasoning eggs in a bowl\n",
      "0.83 a person is adding a cameras\n",
      "1.0 clouds are moving a\n",
      "1.0 a man is talking\n",
      "1.0 a woman is peeling an apple\n",
      "1.0 a man is doing\n",
      "1.0 a man is doing push ups\n",
      "avg 0.9666666666666668\n",
      "\n",
      "Train Bleu score: 0.956\n",
      "\n",
      "0.8 a man is a hands\n",
      "0.5 a man is jumping a dog\n",
      "0.6 a boy is playing a\n",
      "0.67 a baby is playing a ball\n",
      "0.8 a man is a banana\n",
      "0.5 a dog is sitting a tail\n",
      "0.67 a baby is laughing a baby\n",
      "0.29 a panda is walking on a ground\n",
      "0.5 a woman is up a horse\n",
      "0.67 a man is cutting a box\n",
      "avg 0.5985714285714285\n",
      "Test Bleu score: 0.679\n",
      "\n",
      "758/758 [==============================] - 220s - loss: 1.3737 - acc: 0.7569 - val_loss: 1.7235 - val_acc: 0.7225\n",
      "Epoch 3/15\n",
      "757/758 [============================>.] - ETA: 0s - loss: 1.2898 - acc: 0.76630.86 a woman is sitting on the horse\n",
      "1.0 a man is cutting butter into a bowl\n",
      "1.0 a animal is eating a food\n",
      "1.0 a man is adding eggs in a bowl\n",
      "1.0 a person is two cameras\n",
      "1.0 clouds are moving a building\n",
      "1.0 a man is talking\n",
      "1.0 a woman is peeling a apple\n",
      "1.0 a man is doing\n",
      "1.0 a man is doing push ups\n",
      "avg 0.9857142857142858\n",
      "\n",
      "Train Bleu score: 0.965\n",
      "\n",
      "0.67 a man is pouring a food\n",
      "0.5 a woman is shooting a gun\n",
      "0.67 a man is playing a toy\n",
      "0.67 a baby is playing a ball\n",
      "0.67 a man is playing a banana\n",
      "0.71 a dog is sitting in a of\n",
      "0.83 a baby is playing a her\n",
      "0.5 a baby is playing\n",
      "0.5 a man is walking a up\n",
      "0.75 a man is cutting a piece of a\n",
      "avg 0.6464285714285714\n",
      "Test Bleu score: 0.683\n",
      "\n",
      "758/758 [==============================] - 220s - loss: 1.2899 - acc: 0.7663 - val_loss: 1.6626 - val_acc: 0.7322\n",
      "Epoch 4/15\n",
      "757/758 [============================>.] - ETA: 0s - loss: 1.2414 - acc: 0.77150.86 a woman is sitting on a horse\n",
      "1.0 a man is cutting butter into a bowl\n",
      "1.0 a animal is eating a chair\n",
      "1.0 a man is seasoning eggs\n",
      "0.88 a person is cameras two with a cameras\n",
      "1.0 clouds are moving in a sky\n",
      "1.0 a man is talking\n",
      "1.0 a woman is peeling an apple\n",
      "1.0 a man is doing exercises\n",
      "1.0 a man is doing push ups\n",
      "avg 0.9732142857142858\n",
      "\n",
      "Train Bleu score: 0.971\n",
      "\n",
      "0.67 a man is pouring a food\n",
      "0.67 a man is shooting a with\n",
      "0.5 a boy is riding a wall\n",
      "0.67 a baby is playing a ball\n",
      "0.83 a man is talking a woman\n",
      "0.71 a puppy is sitting in a bed\n",
      "0.83 a baby is eating a baby\n",
      "0.29 a panda is climbing on a ground\n",
      "0.86 a girl is doing on a road\n",
      "0.88 a man is putting a piece of a\n",
      "avg 0.6898809523809523\n",
      "Test Bleu score: 0.691\n",
      "\n",
      "758/758 [==============================] - 220s - loss: 1.2413 - acc: 0.7715 - val_loss: 1.6750 - val_acc: 0.7318\n",
      "Epoch 5/15\n",
      "757/758 [============================>.] - ETA: 0s - loss: 1.2121 - acc: 0.77561.0 a woman is walking on a horse\n",
      "1.0 a man is cutting butter into a bowl\n",
      "1.0 a animal is eating\n",
      "1.0 a man is adding eggs to a bowl\n",
      "1.0 a person is burning two cameras\n",
      "0.83 clouds are moving in a moving\n",
      "1.0 a man is speaking\n",
      "1.0 a woman is peeling an apple\n",
      "0.8 a man is doing rope\n",
      "1.0 a man is doing push ups\n",
      "avg 0.9633333333333333\n",
      "\n",
      "Train Bleu score: 0.98\n",
      "\n",
      "0.6 a man is pouring some\n",
      "0.67 a man is shooting a of\n",
      "0.67 a man is doing a wall\n",
      "0.86 a small is playing with a toy\n",
      "0.57 a man is talking to a man\n",
      "0.57 the dog is sitting in the water\n",
      "0.83 a baby is eating a baby\n",
      "0.38 a baby panda is climbing on a ground\n",
      "0.5 a man is doing a machine\n",
      "0.78 a man is putting a piece of a paper\n",
      "avg 0.6419444444444443\n",
      "Test Bleu score: 0.678\n",
      "\n",
      "758/758 [==============================] - 219s - loss: 1.2123 - acc: 0.7756 - val_loss: 1.6674 - val_acc: 0.7318\n",
      "Epoch 6/15\n",
      "155/758 [=====>........................] - ETA: 105s - loss: 1.1677 - acc: 0.7782"
     ]
    }
   ],
   "source": [
    "# pretrain\n",
    "history = model.fit_generator(data_generator(X, Y), steps_per_epoch=int((len(Y)+batch_size-1)/batch_size), \n",
    "                                      validation_data=validation_generator(X_test, Y_test), \n",
    "                                      validation_steps=int((len(Y_test)+batch_size-1)/batch_size),\n",
    "                                      epochs=15, callbacks=callbacks_list)"
   ]
  },
  {
   "cell_type": "code",
   "execution_count": 50,
   "metadata": {},
   "outputs": [
    {
     "name": "stdout",
     "output_type": "stream",
     "text": [
      "Epoch 1/15\n",
      "757/758 [============================>.] - ETA: 0s - loss: 2.7090 - acc: 0.65700.45 a man is a\n",
      "0.78 a man is a\n",
      "0.75 a man is a\n",
      "1.0 a man is a\n",
      "0.75 a man is a\n",
      "0.75 a man is a\n",
      "1.0 a man is a\n",
      "0.58 a man is a\n",
      "1.0 a man is a\n",
      "0.78 a man is a\n",
      "avg 0.7846600148230838\n",
      "\n",
      "Train Bleu score: 0.714\n",
      "\n",
      "0.78 a man is a\n",
      "0.75 a man is a\n",
      "1.0 a man is a\n",
      "0.58 a man is a\n",
      "1.0 a man is a\n",
      "0.58 a man is a\n",
      "0.58 a man is a\n",
      "0.0 a man is a\n",
      "0.58 a man is a\n",
      "0.78 a man is a\n",
      "avg 0.6644003915357024\n",
      "Test Bleu score: 0.696\n",
      "\n",
      "758/758 [==============================] - 239s - loss: 2.7083 - acc: 0.6570 - val_loss: 2.2347 - val_acc: 0.6942\n",
      "Epoch 2/15\n",
      "757/758 [============================>.] - ETA: 0s - loss: 2.1220 - acc: 0.69570.65 a man is a the\n",
      "1.0 a man is a the\n",
      "0.8 a man is a the\n",
      "1.0 a man is a the\n",
      "0.8 a man is a the\n",
      "0.8 a man is a the\n",
      "1.0 a man is a the\n",
      "0.58 a man is a\n",
      "1.0 a man is a the\n",
      "1.0 a man is a the\n",
      "avg 0.8639085189765939\n",
      "\n",
      "Train Bleu score: 0.807\n",
      "\n",
      "1.0 a man is a the\n",
      "0.65 a man is a the\n",
      "1.0 a man is a\n",
      "0.8 a man is a the\n",
      "1.0 a man is a the\n",
      "0.8 a man is a the\n",
      "0.58 a man is a\n",
      "0.2 a man is a the\n",
      "0.8 a man is a the\n",
      "1.0 a man is a the\n",
      "avg 0.7839085189765939\n",
      "Test Bleu score: 0.789\n",
      "\n",
      "758/758 [==============================] - 231s - loss: 2.1218 - acc: 0.6957 - val_loss: 2.1712 - val_acc: 0.6907\n",
      "Epoch 3/15\n",
      "757/758 [============================>.] - ETA: 0s - loss: 2.0333 - acc: 0.70140.65 a man is a the\n",
      "1.0 a man is a the\n",
      "0.8 a cat is a the\n",
      "0.8 a woman is a into\n",
      "0.8 a man is a the\n",
      "0.8 a man is a the\n",
      "0.8 a man is playing a\n",
      "0.8 a woman is slicing a\n",
      "1.0 a man is a the\n",
      "1.0 a man is a the\n",
      "avg 0.8454984602462385\n",
      "\n",
      "Train Bleu score: 0.826\n",
      "\n",
      "1.0 a man is a the\n",
      "0.65 a man is a the\n",
      "1.0 a man is a the\n",
      "0.8 a man is a the\n",
      "0.8 a man is playing a\n",
      "0.8 a cat is a the\n",
      "0.8 a woman is a the\n",
      "0.0 a cat is a\n",
      "0.8 a man is a the\n",
      "1.0 a man is a the\n",
      "avg 0.7654984602462385\n",
      "Test Bleu score: 0.786\n",
      "\n",
      "758/758 [==============================] - 229s - loss: 2.0347 - acc: 0.7013 - val_loss: 2.1127 - val_acc: 0.6993\n",
      "Epoch 4/15\n",
      "757/758 [============================>.] - ETA: 0s - loss: 1.9699 - acc: 0.70550.65 a man is a the\n",
      "0.78 a man is a\n",
      "0.75 a cat is a\n",
      "1.0 a man is a into\n",
      "0.75 a is cutting a\n",
      "0.75 a man is a\n",
      "0.75 a man is playing\n",
      "0.8 a woman is slicing a\n",
      "1.0 a man is a\n",
      "1.0 a man is a the\n",
      "avg 0.823378538553379\n",
      "\n",
      "Train Bleu score: 0.815\n",
      "\n",
      "0.78 a man is a\n",
      "0.75 a man is a\n",
      "1.0 a man is a the\n",
      "1.0 a dog is playing a\n",
      "0.8 a man is playing a\n",
      "0.8 a cat is a the\n",
      "0.58 a woman is a\n",
      "0.25 a baby is a\n",
      "0.58 a man is a\n",
      "0.78 a man is a\n",
      "avg 0.7325802740749917\n",
      "Test Bleu score: 0.762\n",
      "\n",
      "758/758 [==============================] - 231s - loss: 1.9698 - acc: 0.7055 - val_loss: 2.0903 - val_acc: 0.7005\n",
      "Epoch 5/15\n",
      "757/758 [============================>.] - ETA: 0s - loss: 1.9174 - acc: 0.70880.65 a man is a the\n",
      "1.0 a man is a into\n",
      "0.8 a cat is a the\n",
      "1.0 a man is a into\n",
      "0.8 a man is a the\n",
      "1.0 a are is a\n",
      "0.8 a man is playing a\n",
      "0.8 a woman is slicing a\n",
      "1.0 a man is a the\n",
      "1.0 a man is a the\n",
      "avg 0.8854984602462384\n",
      "\n",
      "Train Bleu score: 0.851\n",
      "\n",
      "1.0 a man is a the\n",
      "0.65 a man is a on\n",
      "1.0 a man is a the\n",
      "1.0 a dog is playing a\n",
      "1.0 a man is a the\n",
      "0.8 a cat is a the\n",
      "1.0 a baby is a the\n",
      "0.4 a baby is playing a\n",
      "0.8 a man is a the\n",
      "0.8 a man is a into\n",
      "avg 0.8454984602462385\n",
      "Test Bleu score: 0.811\n",
      "\n",
      "758/758 [==============================] - 232s - loss: 1.9181 - acc: 0.7088 - val_loss: 2.0577 - val_acc: 0.7021\n",
      "Epoch 6/15\n",
      "757/758 [============================>.] - ETA: 0s - loss: 1.8744 - acc: 0.71210.65 a man is a the\n",
      "1.0 a man is a into\n",
      "0.8 a cat is eating a\n",
      "1.0 a man is a into\n",
      "0.8 a is playing a on\n",
      "1.0 a are is a\n",
      "0.8 a man is playing a\n",
      "0.78 a woman is a\n",
      "1.0 a man is a the\n",
      "1.0 a man is a the\n",
      "avg 0.883378538553379\n",
      "\n",
      "Train Bleu score: 0.844\n",
      "\n",
      "1.0 a man is a the\n",
      "0.65 a man is a on\n",
      "1.0 a man is a the\n",
      "1.0 a dog is playing a\n",
      "1.0 a man is a\n",
      "0.8 a cat is a the\n",
      "0.78 a baby is a\n",
      "0.5 a panda is playing\n",
      "0.8 a man is a the\n",
      "0.8 a man is a into\n",
      "avg 0.8333785385533791\n",
      "Test Bleu score: 0.802\n",
      "\n",
      "758/758 [==============================] - 232s - loss: 1.8740 - acc: 0.7121 - val_loss: 2.0523 - val_acc: 0.7015\n",
      "Epoch 7/15\n",
      "757/758 [============================>.] - ETA: 0s - loss: 1.8359 - acc: 0.71450.65 a man is a the\n",
      "1.0 a man is a into\n",
      "0.8 a cat is eating a\n",
      "1.0 a man is adding a\n",
      "0.8 a person is a into\n",
      "1.0 a are is a the\n",
      "0.75 a man is eating\n",
      "0.8 a woman is slicing a\n",
      "1.0 a man is a\n",
      "1.0 a man is a the\n",
      "avg 0.8804984602462385\n",
      "\n",
      "Train Bleu score: 0.86\n",
      "\n",
      "0.8 a man is a into\n",
      "0.65 a man is a on\n",
      "1.0 a man is a the\n",
      "1.0 a dog is playing a\n",
      "1.0 a man is a\n",
      "0.8 a cat is a the\n",
      "0.78 a baby is a\n",
      "0.4 a panda is playing a\n",
      "0.8 a man is a on\n",
      "0.8 a man is a into\n",
      "avg 0.8033785385533789\n",
      "Test Bleu score: 0.784\n",
      "\n",
      "758/758 [==============================] - 232s - loss: 1.8361 - acc: 0.7144 - val_loss: 2.0573 - val_acc: 0.6984\n",
      "Epoch 8/15\n",
      "757/758 [============================>.] - ETA: 0s - loss: 1.8017 - acc: 0.71700.65 a woman is a woman\n",
      "1.0 a man is a into\n",
      "0.8 a cat is eating a\n",
      "1.0 a man is adding a\n",
      "0.8 a is eating a on\n",
      "1.0 a are is a\n",
      "1.0 a man is talking\n",
      "0.8 a woman is slicing a\n",
      "1.0 a man is a\n",
      "1.0 a man is a the\n",
      "avg 0.9054984602462385\n",
      "\n",
      "Train Bleu score: 0.871\n",
      "\n",
      "0.78 a man is a\n",
      "0.65 a woman is a on\n",
      "1.0 a man is a the\n",
      "1.0 a dog is playing a\n",
      "1.0 a man is a\n",
      "0.6 a dog is eating a\n",
      "1.0 a baby is a on\n",
      "0.5 a panda is playing\n",
      "0.8 a man is a on\n",
      "1.0 a man is a the\n",
      "avg 0.8333785385533791\n",
      "Test Bleu score: 0.775\n",
      "\n",
      "758/758 [==============================] - 231s - loss: 1.8013 - acc: 0.7170 - val_loss: 2.0640 - val_acc: 0.7002\n",
      "Epoch 9/15\n",
      "757/758 [============================>.] - ETA: 0s - loss: 1.7696 - acc: 0.71930.65 a man is a woman\n",
      "1.0 a man is a into\n",
      "0.8 a person is eating a\n",
      "1.0 a man is adding a\n",
      "0.8 a is being a on\n",
      "1.0 a are of a\n",
      "1.0 a man is talking\n",
      "0.8 a woman is slicing a\n",
      "1.0 a man is a\n",
      "1.0 a man is a the\n",
      "avg 0.9054984602462385\n",
      "\n",
      "Train Bleu score: 0.88\n",
      "\n",
      "0.78 a man is a\n",
      "0.65 a man is a on\n",
      "1.0 a man is a on\n",
      "1.0 a dog is playing a\n",
      "1.0 a man is a\n",
      "0.8 a dog is a the\n",
      "1.0 a baby is a on\n",
      "0.4 a panda is playing a\n",
      "0.58 a man is a\n",
      "1.0 a man is a the\n",
      "avg 0.8217885972837344\n",
      "Test Bleu score: 0.773\n",
      "\n",
      "758/758 [==============================] - 231s - loss: 1.7688 - acc: 0.7194 - val_loss: 2.0403 - val_acc: 0.7012\n",
      "Epoch 10/15\n",
      "757/758 [============================>.] - ETA: 0s - loss: 1.7404 - acc: 0.72170.65 a woman is a woman\n",
      "1.0 a man is a into\n",
      "1.0 a baby is eating a\n",
      "1.0 a person is adding a\n",
      "1.0 a person is a on\n",
      "1.0 a are of a\n",
      "1.0 a man is talking\n",
      "0.8 a woman is slicing a\n",
      "1.0 a man is a\n",
      "0.8 a man is playing a\n",
      "avg 0.9254984602462386\n",
      "\n",
      "Train Bleu score: 0.873\n",
      "\n",
      "0.58 a man is eating\n",
      "0.75 a man is a\n",
      "1.0 a man is a the\n",
      "0.58 a baby is playing\n",
      "0.8 a man is playing a\n",
      "0.6 a dog is eating a\n",
      "0.78 a baby is a\n",
      "0.75 a panda are playing\n",
      "0.8 a man is on a\n",
      "1.0 a man is a the\n",
      "avg 0.7647001957678511\n",
      "Test Bleu score: 0.726\n",
      "\n",
      "758/758 [==============================] - 222s - loss: 1.7399 - acc: 0.7217 - val_loss: 2.0179 - val_acc: 0.7000\n",
      "Epoch 11/15\n",
      "757/758 [============================>.] - ETA: 0s - loss: 1.7146 - acc: 0.72370.65 a woman is a woman\n",
      "1.0 a man is a into\n",
      "1.0 a animal is eating a\n",
      "1.0 a person is adding a\n",
      "1.0 a person is a on\n",
      "1.0 a are of a\n",
      "1.0 a man is talking\n",
      "0.8 a woman is slicing a\n",
      "1.0 a man is doing\n",
      "1.0 a man is doing a\n",
      "avg 0.9454984602462385\n",
      "\n",
      "Train Bleu score: 0.906\n",
      "\n",
      "1.0 a man is a the\n",
      "0.75 a woman is a\n",
      "1.0 a man is a on\n",
      "1.0 a dog is playing a\n",
      "1.0 a man is a\n",
      "0.6 a dog is eating a\n",
      "1.0 a baby is a on\n",
      "0.5 a panda are is\n",
      "0.8 a man is on a\n",
      "1.0 a man is a the\n",
      "avg 0.8649999999999999\n",
      "Test Bleu score: 0.783\n",
      "\n",
      "758/758 [==============================] - 248s - loss: 1.7140 - acc: 0.7238 - val_loss: 2.0305 - val_acc: 0.6997\n",
      "Epoch 12/15\n",
      "757/758 [============================>.] - ETA: 0s - loss: 1.6908 - acc: 0.72560.82 a woman is a the\n",
      "1.0 a man is a into\n",
      "1.0 a animal is eating a\n",
      "1.0 a person is adding a\n",
      "1.0 someone person is a on\n",
      "1.0 a are of a\n",
      "1.0 a man is talking\n",
      "0.78 a woman is peeling\n",
      "1.0 a man is doing\n",
      "1.0 a man is doing a\n",
      "avg 0.9597531536149386\n",
      "\n",
      "Train Bleu score: 0.888\n",
      "\n",
      "0.78 a man is a\n",
      "0.75 a are is a\n",
      "1.0 a man is a\n",
      "0.58 a baby are playing\n",
      "1.0 a man is eating\n",
      "0.6 a dog is eating a\n",
      "1.0 a baby is eating a\n",
      "1.0 two panda are playing\n",
      "0.6 a man is doing a\n",
      "0.86 a man is a pizza of a\n",
      "avg 0.8170044227517815\n",
      "Test Bleu score: 0.731\n",
      "\n"
     ]
    },
    {
     "name": "stdout",
     "output_type": "stream",
     "text": [
      "758/758 [==============================] - 232s - loss: 1.6904 - acc: 0.7257 - val_loss: 2.0084 - val_acc: 0.6987\n",
      "Epoch 13/15\n",
      "757/758 [============================>.] - ETA: 0s - loss: 1.6684 - acc: 0.72740.83 a woman is a woman and\n",
      "1.0 a man is a into\n",
      "1.0 a animal is eating a\n",
      "1.0 a man is adding a\n",
      "1.0 a person is a on\n",
      "0.75 two are of a\n",
      "1.0 a man is talking\n",
      "1.0 a woman is peeling a\n",
      "1.0 a man is doing a\n",
      "1.0 a man is doing a\n",
      "avg 0.9583333333333334\n",
      "\n",
      "Train Bleu score: 0.93\n",
      "\n",
      "1.0 a man is a the\n",
      "0.65 a woman is a the\n",
      "0.83 a man is doing a on\n",
      "0.8 a baby is playing a\n",
      "1.0 a man is a the\n",
      "0.8 a dog is a the\n",
      "1.0 a baby is a on\n",
      "0.4 a panda is playing a\n",
      "0.67 a man is doing a on\n",
      "1.0 a man is a the of a\n",
      "avg 0.8154984602462386\n",
      "Test Bleu score: 0.774\n",
      "\n",
      "758/758 [==============================] - 232s - loss: 1.6689 - acc: 0.7273 - val_loss: 2.0301 - val_acc: 0.6995\n",
      "Epoch 14/15\n",
      "757/758 [============================>.] - ETA: 0s - loss: 1.6477 - acc: 0.72901.0 a woman is a the on\n",
      "1.0 a man is a into\n",
      "1.0 a animal is eating a\n",
      "1.0 a person is adding a\n",
      "1.0 a person is a on\n",
      "0.75 two are of a\n",
      "1.0 a man is talking\n",
      "1.0 a woman is peeling a\n",
      "1.0 a man is doing\n",
      "1.0 a man is doing a\n",
      "avg 0.975\n",
      "\n",
      "Train Bleu score: 0.936\n",
      "\n",
      "1.0 a man is a the\n",
      "0.65 a woman is a the\n",
      "1.0 a man is a on\n",
      "0.8 a baby is playing a\n",
      "1.0 a man is a\n",
      "0.8 a dog is a the\n",
      "1.0 a baby is a her\n",
      "0.5 a panda is are\n",
      "0.6 a man is doing on\n",
      "1.0 a man is a the of a\n",
      "avg 0.8354984602462384\n",
      "Test Bleu score: 0.767\n",
      "\n",
      "758/758 [==============================] - 232s - loss: 1.6472 - acc: 0.7291 - val_loss: 2.0511 - val_acc: 0.6946\n",
      "Epoch 15/15\n",
      "757/758 [============================>.] - ETA: 0s - loss: 1.6275 - acc: 0.73031.0 a woman is a the horse a\n",
      "0.83 a man is pouring a into\n",
      "1.0 a animal is eating a\n",
      "1.0 a person is adding eggs\n",
      "1.0 someone person is a on\n",
      "0.8 two are of a the\n",
      "1.0 a man is talking\n",
      "1.0 a woman is peeling a\n",
      "1.0 a man is doing a\n",
      "1.0 a man is doing a ups\n",
      "avg 0.9633333333333333\n",
      "\n",
      "Train Bleu score: 0.951\n",
      "\n",
      "1.0 a man is a the\n",
      "0.65 a woman is a the\n",
      "0.83 a man is doing a on\n",
      "1.0 a dog is playing a\n",
      "0.8 a man is playing a\n",
      "0.83 a dog is a the in\n",
      "1.0 a baby is a on\n",
      "0.5 a panda is playing\n",
      "0.67 a man is doing a on\n",
      "0.86 a man is a pizza of a\n",
      "avg 0.8145460792938577\n",
      "Test Bleu score: 0.779\n",
      "\n",
      "758/758 [==============================] - 232s - loss: 1.6276 - acc: 0.7304 - val_loss: 2.0271 - val_acc: 0.6983\n"
     ]
    }
   ],
   "source": [
    "history = model_inf.fit_generator(inf_data_generator(X, Y), \n",
    "                                  steps_per_epoch=int((len(Y)+batch_size-1)/batch_size), \n",
    "                                  validation_data=inf_validation_generator(X_test, Y_test), \n",
    "                                  validation_steps=int((len(Y_test)+batch_size-1)/batch_size),\n",
    "                                  epochs=15, \n",
    "                                  callbacks=callbacks_list)"
   ]
  },
  {
   "cell_type": "code",
   "execution_count": null,
   "metadata": {},
   "outputs": [],
   "source": [
    "for i in metrics:\n",
    "    myhistory[i].append(history.history[i][-1])"
   ]
  },
  {
   "cell_type": "raw",
   "metadata": {},
   "source": [
    "import pickle\n",
    "with open('hw2/vocab2idx', 'wb') as f:\n",
    "    pickle.dump(vocab2idx, f)\n",
    "with open('hw2/idx2vocab', 'wb') as f:\n",
    "    pickle.dump(idx2vocab, f)\n",
    "with open('hw2/correct_words', 'wb') as f:\n",
    "    pickle.dump(correct_words, f)"
   ]
  },
  {
   "cell_type": "code",
   "execution_count": 57,
   "metadata": {},
   "outputs": [
    {
     "data": {
      "text/plain": [
       "0.6939950765347153"
      ]
     },
     "execution_count": 57,
     "metadata": {},
     "output_type": "execute_result"
    }
   ],
   "source": [
    "gen_output(test_data, test_label, decode_sequence_reduce)\n",
    "cal_bleu(test_label)"
   ]
  },
  {
   "cell_type": "code",
   "execution_count": null,
   "metadata": {},
   "outputs": [],
   "source": [
    "teacher_force_ratio = 100\n",
    "epochs = 3"
   ]
  },
  {
   "cell_type": "code",
   "execution_count": null,
   "metadata": {},
   "outputs": [],
   "source": [
    "for epoch in range(epochs):\n",
    "    print ('epoch', epoch)\n",
    "    try:\n",
    "        #if np.random.random() < teacher_force_ratio:\n",
    "        print ('teacher forcing')\n",
    "        history = model.fit_generator(data_generator(X, Y), steps_per_epoch=int((len(Y)+batch_size-1)/batch_size), \n",
    "                                      validation_data=validation_generator(X_test, Y_test), \n",
    "                                      validation_steps=int((len(Y_test)+batch_size-1)/batch_size),\n",
    "                                      epochs=1, callbacks=callbacks_list)\n",
    "        #else:\n",
    "        print ('inference mode')\n",
    "        history = model_inf.fit_generator(inf_data_generator(X, Y), \n",
    "                                          steps_per_epoch=int((len(Y)+batch_size-1)/batch_size), \n",
    "                                          validation_data=inf_validation_generator(X_test, Y_test), \n",
    "                                          validation_steps=int((len(Y_test)+batch_size-1)/batch_size),\n",
    "                                          epochs=1, \n",
    "                                          callbacks=callbacks_list)\n",
    "    except KeyboardInterrupt:\n",
    "        print ('KeyboardInterrupt')\n",
    "        break\n",
    "        \n",
    "    for i in metrics:\n",
    "        myhistory[i].append(history.history[i][-1])\n",
    "        \n",
    "    #if (epoch+1)%4 == 0:\n",
    "    #    teacher_force_ratio -= 0.1"
   ]
  },
  {
   "cell_type": "code",
   "execution_count": 51,
   "metadata": {},
   "outputs": [
    {
     "data": {
      "image/png": "[encoded data removed]",
      "text/plain": [
       "<Figure size 432x288 with 1 Axes>"
      ]
     },
     "metadata": {},
     "output_type": "display_data"
    }
   ],
   "source": [
    "plt.plot(history.history['loss'])\n",
    "plt.plot(history.history['val_loss'])\n",
    "plt.title('model loss')\n",
    "plt.ylabel('loss')\n",
    "plt.xlabel('epoch')\n",
    "plt.legend(['train', 'test'], loc='upper left')\n",
    "plt.show()"
   ]
  },
  {
   "cell_type": "code",
   "execution_count": 52,
   "metadata": {
    "scrolled": true
   },
   "outputs": [
    {
     "data": {
      "image/png": "[encoded data removed]",
      "text/plain": [
       "<Figure size 432x288 with 1 Axes>"
      ]
     },
     "metadata": {},
     "output_type": "display_data"
    }
   ],
   "source": [
    "plt.plot(history.history['acc'])\n",
    "plt.plot(history.history['val_acc'])\n",
    "plt.title('model accuracy')\n",
    "plt.ylabel('accuracy')\n",
    "plt.xlabel('epoch')\n",
    "plt.legend(['train', 'test'], loc='upper left')\n",
    "plt.show()"
   ]
  },
  {
   "cell_type": "code",
   "execution_count": 53,
   "metadata": {
    "scrolled": true
   },
   "outputs": [
    {
     "data": {
      "image/png": "[encoded data removed]",
      "text/plain": [
       "<Figure size 432x288 with 1 Axes>"
      ]
     },
     "metadata": {},
     "output_type": "display_data"
    }
   ],
   "source": [
    "plt.plot(mycallback.bleu_history['train'])\n",
    "plt.plot(mycallback.bleu_history['test'])\n",
    "plt.title('bleu score')\n",
    "plt.ylabel('score')\n",
    "plt.xlabel('epoch')\n",
    "plt.legend(['train', 'test'])\n",
    "plt.show()"
   ]
  },
  {
   "cell_type": "code",
   "execution_count": null,
   "metadata": {},
   "outputs": [],
   "source": [
    "fig, ax1 = plt.subplots()\n",
    "ax2 = ax1.twinx()\n",
    "\n",
    "ax1.plot(history.history['loss'], label='loss', c='b')\n",
    "ax1.plot(history.history['val_loss'], label='val_loss', c='b', linestyle='--')\n",
    "ax1.set_ylabel('loss')\n",
    "#ax1.legend(['loss', 'val_loss'])\n",
    "\n",
    "\n",
    "ax2.plot(mycallback.bleu_history['train'], label='bleu', c='r')\n",
    "ax2.plot(mycallback.bleu_history['test'], label='val_bleu', c='r', linestyle='--')\n",
    "ax2.set_ylabel('bleu score')\n",
    "\n",
    "plt.xlabel('epoch')\n",
    "plt.legend(['train', 'test'])\n",
    "plt.show()"
   ]
  },
  {
   "cell_type": "code",
   "execution_count": null,
   "metadata": {},
   "outputs": [],
   "source": [
    "fig, ax1 = plt.subplots()\n",
    "ax2 = ax1.twinx()\n",
    "\n",
    "ax1.plot(history.history['acc'], label='acc', c='b')\n",
    "ax1.plot(history.history['val_acc'], label='val_acc', c='b', linestyle='--')\n",
    "ax1.set_ylabel('accuracy')\n",
    "\n",
    "ax2.plot(mycallback.bleu_history['train'], label='bleu', c='r')\n",
    "ax2.plot(mycallback.bleu_history['test'], label='val_bleu', c='r', linestyle='--')\n",
    "ax2.set_ylabel('bleu score')\n",
    "\n",
    "plt.xlabel('epoch')\n",
    "plt.legend(['train', 'test'])\n",
    "plt.show()"
   ]
  },
  {
   "cell_type": "code",
   "execution_count": 50,
   "metadata": {},
   "outputs": [],
   "source": [
    "model.save('model_0.694.hdf5')"
   ]
  },
  {
   "cell_type": "code",
   "execution_count": 54,
   "metadata": {},
   "outputs": [
    {
     "name": "stdout",
     "output_type": "stream",
     "text": [
      "model_keras_0.811.hdf5 0.811\n"
     ]
    }
   ],
   "source": [
    "print (mycallback.saved_model, mycallback.best_score)"
   ]
  },
  {
   "cell_type": "code",
   "execution_count": 52,
   "metadata": {},
   "outputs": [
    {
     "name": "stderr",
     "output_type": "stream",
     "text": [
      "/usr/local/lib/python3.6/site-packages/keras/engine/topology.py:1252: UserWarning: The `Merge` layer is deprecated and will be removed after 08/2017. Use instead layers from `keras.layers.merge`, e.g. `add`, `concatenate`, etc.\n",
      "  return cls(**config)\n"
     ]
    }
   ],
   "source": [
    "from keras.models import load_model\n",
    "model2 = load_model('model_0.694.hdf5')"
   ]
  },
  {
   "cell_type": "code",
   "execution_count": 55,
   "metadata": {},
   "outputs": [],
   "source": [
    "model.load_weights('model_keras_0.694.hdf5')"
   ]
  },
  {
   "cell_type": "raw",
   "metadata": {},
   "source": [
    "def decode_sequence_reduce(input_seq):\n",
    "    states_value = encoder_model.predict(input_seq)\n",
    "    target_seq = np.zeros((1, 1, vocab_size+1))\n",
    "    target_seq[0, 0, vocab_size] = 1.\n",
    "    \n",
    "    stop_condition = False\n",
    "    decoded_sentence = []\n",
    "    last_word = \"\"\n",
    "    last_last_word = \"\"\n",
    "    while not stop_condition:\n",
    "        output_tokens, h, c = decoder_model.predict([target_seq] + states_value)\n",
    "\n",
    "        sampled_index = np.argmax(output_tokens[0, -1, :])\n",
    "        sampled_word = idx2vocab[sampled_index]\n",
    "        \n",
    "        if sampled_word == last_word or sampled_word == last_last_word:\n",
    "            output_tokens[0, -1, sampled_index] = 0\n",
    "            sampled_index = np.argmax(output_tokens[0, -1, :])\n",
    "            sampled_word = idx2vocab[sampled_index]\n",
    "        if sampled_word == last_word or sampled_word == last_last_word:\n",
    "            output_tokens[0, -1, sampled_index] = 0\n",
    "            sampled_index = np.argmax(output_tokens[0, -1, :])\n",
    "            sampled_word = idx2vocab[sampled_index]\n",
    "        \n",
    "        \n",
    "\n",
    "        if (len(decoded_sentence) >= out_length):\n",
    "            stop_condition = True\n",
    "        elif sampled_word == \"<pad>\":\n",
    "            stop_condition = True\n",
    "            if last_word == 'a':\n",
    "                output_tokens[0, -1, sampled_index] = 0\n",
    "                sampled_index = np.argmax(output_tokens[0, -1, :])\n",
    "                sampled_word = idx2vocab[sampled_index]\n",
    "                decoded_sentence.append(sampled_word)\n",
    "        else:\n",
    "            last_last_word = last_word\n",
    "            last_word = sampled_word   \n",
    "            decoded_sentence.append(sampled_word)\n",
    "        \n",
    "\n",
    "        target_seq = np.zeros((1, 1, vocab_size+1))\n",
    "        target_seq[0, 0, sampled_index] = 1.\n",
    "\n",
    "        states_value = [h, c]\n",
    "\n",
    "    return decoded_sentence"
   ]
  },
  {
   "cell_type": "code",
   "execution_count": null,
   "metadata": {},
   "outputs": [],
   "source": [
    "gen_output(test_data, test_label, decode_sequence_beam)\n",
    "cal_bleu(test_label)"
   ]
  },
  {
   "cell_type": "code",
   "execution_count": null,
   "metadata": {},
   "outputs": [],
   "source": [
    "show_outputs_and_score(test_label, 20)"
   ]
  },
  {
   "cell_type": "code",
   "execution_count": null,
   "metadata": {},
   "outputs": [],
   "source": [
    "import nltk\n",
    "#nltk.download('averaged_perceptron_tagger')"
   ]
  },
  {
   "cell_type": "code",
   "execution_count": null,
   "metadata": {},
   "outputs": [],
   "source": [
    "def decode_sequence_reduce_2(input_seq):\n",
    "    states_value = encoder_model.predict(input_seq)\n",
    "    target_seq = np.zeros((1, 1, vocab_size+1))\n",
    "    target_seq[0, 0, vocab_size] = 1.\n",
    "    \n",
    "    stop_condition = False\n",
    "    decoded_sentence = []\n",
    "    last_word = \"\"\n",
    "    last_last_word = \"\"\n",
    "    while not stop_condition:\n",
    "        output_tokens, h, c = decoder_model.predict([target_seq] + states_value)\n",
    "\n",
    "        sampled_index = np.argmax(output_tokens[0, -1, :])\n",
    "        sampled_word = idx2vocab[sampled_index]\n",
    "        \n",
    "        if sampled_word == last_word or sampled_word == last_last_word:\n",
    "            output_tokens[0, -1, sampled_index] = 0\n",
    "            sampled_index = np.argmax(output_tokens[0, -1, :])\n",
    "            sampled_word = idx2vocab[sampled_index]\n",
    "        if sampled_word == last_word or sampled_word == last_last_word:\n",
    "            output_tokens[0, -1, sampled_index] = 0\n",
    "            sampled_index = np.argmax(output_tokens[0, -1, :])\n",
    "            sampled_word = idx2vocab[sampled_index]\n",
    "        \n",
    "        last_last_word = last_word\n",
    "        last_word = sampled_word\n",
    "            \n",
    "        \n",
    "        \n",
    "        if (len(decoded_sentence) >= out_length) or sampled_word == \"<pad>\":\n",
    "            tag = nltk.pos_tag([last_last_word])[0][1]\n",
    "            if  tag == 'DT' or tag == 'IN':\n",
    "                #decoded_sentence.append('!')\n",
    "                while True:\n",
    "                    output_tokens[0, -1, sampled_index] = 0\n",
    "                    sampled_index = np.argmax(output_tokens[0, -1, :])\n",
    "                    sampled_word = idx2vocab[sampled_index]\n",
    "                    if nltk.pos_tag([sampled_word])[0][1] == 'NN':\n",
    "                        decoded_sentence.append(sampled_word)\n",
    "                        break\n",
    "            stop_condition = True\n",
    "            continue\n",
    "            \n",
    "        decoded_sentence.append(sampled_word)\n",
    "\n",
    "        target_seq = np.zeros((1, 1, vocab_size+1))\n",
    "        target_seq[0, 0, sampled_index] = 1.\n",
    "\n",
    "        states_value = [h, c]\n",
    "\n",
    "    return decoded_sentence"
   ]
  },
  {
   "cell_type": "code",
   "execution_count": null,
   "metadata": {},
   "outputs": [],
   "source": [
    "for i in test_label[:20]:\n",
    "    input_seq = np.array([test_data[i['id']]])\n",
    "    decoded_sentence = decode_sequence_reduce_2(input_seq)\n",
    "    print (i['caption'][0])\n",
    "    print (decoded_sentence)"
   ]
  },
  {
   "cell_type": "code",
   "execution_count": null,
   "metadata": {},
   "outputs": [],
   "source": [
    "with open(\"output_keras.txt\", 'w', encoding='utf-8') as f:\n",
    "    for i in test_label:\n",
    "        input_seq = np.array([test_data[i['id']]])\n",
    "        decoded_sentence = decode_sequence_reduce_2(input_seq)\n",
    "        #print (decoded_sentence)\n",
    "        out = []\n",
    "        last = \"\"\n",
    "        for j in decoded_sentence:\n",
    "            if j == '<pad>' or j == \"<S>\" or j == last:\n",
    "                continue\n",
    "            last = j\n",
    "            out.append(j)\n",
    "\n",
    "\n",
    "        out = i['id'] + ',' + \" \".join(out) + '\\n'\n",
    "        f.write(out)\n",
    "    \n",
    "cal_bleu(test_label)"
   ]
  }
 ],
 "metadata": {
  "kernelspec": {
   "display_name": "Python 3",
   "language": "python",
   "name": "python3"
  },
  "language_info": {
   "codemirror_mode": {
    "name": "ipython",
    "version": 3
   },
   "file_extension": ".py",
   "mimetype": "text/x-python",
   "name": "python",
   "nbconvert_exporter": "python",
   "pygments_lexer": "ipython3",
   "version": "3.6.4"
  }
 },
 "nbformat": 4,
 "nbformat_minor": 2
}
