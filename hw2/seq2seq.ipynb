{
 "cells": [
  {
   "cell_type": "code",
   "execution_count": 1,
   "metadata": {
    "collapsed": true
   },
   "outputs": [],
   "source": [
    "import os\n",
    "import sys\n",
    "import json\n",
    "import numpy as np\n",
    "import matplotlib.pyplot as plt\n",
    "%matplotlib inline"
   ]
  },
  {
   "cell_type": "code",
   "execution_count": 2,
   "metadata": {},
   "outputs": [
    {
     "name": "stdout",
     "output_type": "stream",
     "text": [
      "1450 training files\n",
      "1450 training data\n",
      "1450 training labels\n"
     ]
    }
   ],
   "source": [
    "train_id_list = open('MLDS_hw2_1_data/training_data/training_id.txt').read().split()\n",
    "train_data = {i:np.load('MLDS_hw2_1_data/training_data/feat/'+ i + '.npy') for i in train_id_list}\n",
    "train_label = json.loads(open('MLDS_hw2_1_data/training_label.json', 'r').read())\n",
    "# label = list -> dict['caption'] -> list (variable length???)\n",
    "\n",
    "print (len(train_id_list), 'training files')\n",
    "print (len(train_data), 'training data')\n",
    "print (len(train_label), 'training labels')"
   ]
  },
  {
   "cell_type": "code",
   "execution_count": 3,
   "metadata": {},
   "outputs": [
    {
     "name": "stdout",
     "output_type": "stream",
     "text": [
      "100 testing files\n",
      "100 testing data\n",
      "100 testing labels\n"
     ]
    }
   ],
   "source": [
    "test_id_list = open('MLDS_hw2_1_data/testing_data/testing_id.txt').read().split()\n",
    "test_data = {i:np.load('MLDS_hw2_1_data/testing_data/feat/'+ i + '.npy') for i in test_id_list}\n",
    "test_label = json.loads(open('MLDS_hw2_1_data/testing_label.json', 'r').read())\n",
    "# label = list -> dict['caption'] -> list (variable length???)\n",
    "\n",
    "print (len(test_id_list), 'testing files')\n",
    "print (len(test_data), 'testing data')\n",
    "print (len(test_label), 'testing labels')"
   ]
  },
  {
   "cell_type": "code",
   "execution_count": 58,
   "metadata": {
    "collapsed": true
   },
   "outputs": [],
   "source": [
    "from keras.preprocessing.text import Tokenizer\n",
    "# create the tokenizer\n",
    "t = Tokenizer(oov_token=\"<unk>\")"
   ]
  },
  {
   "cell_type": "code",
   "execution_count": 59,
   "metadata": {
    "collapsed": true
   },
   "outputs": [],
   "source": [
    "for i in train_label:\n",
    "    t.fit_on_texts(i['caption'])\n",
    "    # texts: can be a list of strings, generator of strings, or a list of list of strings.\n",
    "for i in test_label:\n",
    "    t.fit_on_texts(i['caption'])\n",
    "    # texts: can be a list of strings, generator of strings, or a list of list of strings."
   ]
  },
  {
   "cell_type": "code",
   "execution_count": 60,
   "metadata": {},
   "outputs": [
    {
     "name": "stdout",
     "output_type": "stream",
     "text": [
      "6222 words\n"
     ]
    }
   ],
   "source": [
    "print (len(t.word_counts), 'words')"
   ]
  },
  {
   "cell_type": "code",
   "execution_count": 92,
   "metadata": {
    "collapsed": true
   },
   "outputs": [],
   "source": [
    "shuffle_cnt = 0\n",
    "in_length = 80\n",
    "out_length = 20\n",
    "batch_size = 64\n",
    "hidden_size = 64\n",
    "vocab_size = len(t.word_counts)"
   ]
  },
  {
   "cell_type": "code",
   "execution_count": 73,
   "metadata": {
    "collapsed": true
   },
   "outputs": [],
   "source": [
    "vocab2idx = dict((i, t.word_index[i]) for i in t.word_index)\n",
    "idx2vocab = dict((t.word_index[i], i) for i in t.word_index)\n",
    "idx2vocab[0] = \"<pad>\""
   ]
  },
  {
   "cell_type": "code",
   "execution_count": 9,
   "metadata": {
    "collapsed": true
   },
   "outputs": [],
   "source": [
    "from keras.preprocessing.sequence import pad_sequences\n",
    "for i in train_label:\n",
    "    seqs = t.texts_to_sequences(i['caption']) # input a list of strings\n",
    "    pad_seqs = pad_sequences(seqs, maxlen=out_length, dtype='int32', padding='post', truncating='post', value=0.0)\n",
    "    i['seq'] = pad_seqs\n",
    "for i in test_label:\n",
    "    seqs = t.texts_to_sequences(i['caption']) # input a list of strings\n",
    "    pad_seqs = pad_sequences(seqs, maxlen=out_length, dtype='int32', padding='post', truncating='post', value=0.0)\n",
    "    i['seq'] = pad_seqs"
   ]
  },
  {
   "cell_type": "code",
   "execution_count": 87,
   "metadata": {},
   "outputs": [
    {
     "name": "stdout",
     "output_type": "stream",
     "text": [
      "(24232,) (24232, 2)\n"
     ]
    }
   ],
   "source": [
    "X = []\n",
    "Y = []\n",
    "for i, ii in enumerate(train_label):\n",
    "    for j, jj in enumerate(ii['seq']):\n",
    "        X.append(ii['id'])\n",
    "        Y.append([i, j])\n",
    "\n",
    "X = np.array(X)\n",
    "Y = np.array(Y)\n",
    "print (X.shape, Y.shape)"
   ]
  },
  {
   "cell_type": "code",
   "execution_count": 86,
   "metadata": {},
   "outputs": [
    {
     "name": "stdout",
     "output_type": "stream",
     "text": [
      "(1674,) (1674, 2)\n"
     ]
    }
   ],
   "source": [
    "X_test = []\n",
    "Y_test = []\n",
    "for i, ii in enumerate(test_label):\n",
    "    for j, jj in enumerate(ii['seq']):\n",
    "        X_test.append(ii['id'])\n",
    "        Y_test.append([i, j])\n",
    "\n",
    "X_test = np.array(X_test)\n",
    "Y_test = np.array(Y_test)\n",
    "print (X_test.shape, Y_test.shape)"
   ]
  },
  {
   "cell_type": "code",
   "execution_count": 12,
   "metadata": {
    "collapsed": true
   },
   "outputs": [],
   "source": [
    "from keras.models import Sequential, Model\n",
    "from keras.layers import Dense, CuDNNLSTM, RepeatVector\n",
    "from keras.utils import to_categorical\n",
    "from keras.layers.wrappers import TimeDistributed, Bidirectional"
   ]
  },
  {
   "cell_type": "code",
   "execution_count": 136,
   "metadata": {
    "scrolled": true
   },
   "outputs": [
    {
     "name": "stdout",
     "output_type": "stream",
     "text": [
      "_________________________________________________________________\n",
      "Layer (type)                 Output Shape              Param #   \n",
      "=================================================================\n",
      "bidirectional_2 (Bidirection (None, 128)               2130944   \n",
      "_________________________________________________________________\n",
      "repeat_vector_2 (RepeatVecto (None, 20, 128)           0         \n",
      "_________________________________________________________________\n",
      "bidirectional_3 (Bidirection (None, 20, 128)           99328     \n",
      "_________________________________________________________________\n",
      "time_distributed_2 (TimeDist (None, 20, 6223)          802767    \n",
      "=================================================================\n",
      "Total params: 3,033,039\n",
      "Trainable params: 3,033,039\n",
      "Non-trainable params: 0\n",
      "_________________________________________________________________\n",
      "None\n"
     ]
    },
    {
     "name": "stderr",
     "output_type": "stream",
     "text": [
      "/home/dada/.local/lib/python3.5/site-packages/ipykernel_launcher.py:5: UserWarning: Update your `Dense` call to the Keras 2 API: `Dense(activation=\"softmax\", units=6223)`\n",
      "  \"\"\"\n"
     ]
    }
   ],
   "source": [
    "model = Sequential()\n",
    "model.add( Bidirectional(CuDNNLSTM(hidden_size), input_shape=(in_length, 4096)) )\n",
    "model.add( RepeatVector(out_length) )\n",
    "model.add( Bidirectional(CuDNNLSTM(hidden_size, return_sequences=True)) )\n",
    "model.add( TimeDistributed(Dense(output_dim=vocab_size+1, activation=\"softmax\")) )\n",
    "print(model.summary())\n",
    "# compile network\n",
    "model.compile(loss='categorical_crossentropy', optimizer='adam', metrics=['acc'])"
   ]
  },
  {
   "cell_type": "code",
   "execution_count": 111,
   "metadata": {
    "collapsed": true
   },
   "outputs": [],
   "source": [
    "from MLDS_hw2_1_data.bleu_eval import BLEU"
   ]
  },
  {
   "cell_type": "code",
   "execution_count": 126,
   "metadata": {},
   "outputs": [],
   "source": [
    "def gen_output():\n",
    "    with open(\"output.txt\", 'w') as f:\n",
    "        for i in test_label:\n",
    "            pred = model.predict(np.array([test_data[i['id']]]))[0]\n",
    "            pred = [idx2vocab[np.argmax(j)] for j in pred]\n",
    "            out = \"\"\n",
    "            for j in pred:\n",
    "                if j == '<pad>':\n",
    "                    break\n",
    "                elif j == '<unk>':\n",
    "                    continue\n",
    "                out += j + \" \"\n",
    "            out = i['id'] + ',' + out + '\\n'\n",
    "            f.write(out)"
   ]
  },
  {
   "cell_type": "code",
   "execution_count": 124,
   "metadata": {},
   "outputs": [],
   "source": [
    "def cal_bleu():\n",
    "    global test_label\n",
    "    output = \"output.txt\"\n",
    "    result = {}\n",
    "    with open(output,'r') as f:\n",
    "        for line in f:\n",
    "            line = line.rstrip()\n",
    "            comma = line.index(',')\n",
    "            test_id = line[:comma]\n",
    "            caption = line[comma+1:]\n",
    "            result[test_id] = caption\n",
    "    #count by the method described in the paper https://aclanthology.info/pdf/P/P02/P02-1040.pdf\n",
    "    bleu=[]\n",
    "    for item in test_label:\n",
    "        score_per_video = []\n",
    "        captions = [x.rstrip('.') for x in item['caption']]\n",
    "        score_per_video.append(BLEU(result[item['id']],captions,True))\n",
    "        bleu.append(score_per_video[0])\n",
    "    average = sum(bleu) / len(bleu)\n",
    "    #print(\"Average bleu score is \" + str(average))\n",
    "    return average"
   ]
  },
  {
   "cell_type": "code",
   "execution_count": 132,
   "metadata": {},
   "outputs": [],
   "source": [
    "class TestCallback(Callback):\n",
    "    #def __init__(self, test_data):\n",
    "    #    self.test_data = test_data\n",
    "\n",
    "    def on_epoch_end(self, epoch, logs={}):\n",
    "        gen_output()\n",
    "        score = cal_bleu()\n",
    "        print('\\nTesting score: {}\\n'.format(score))"
   ]
  },
  {
   "cell_type": "code",
   "execution_count": 140,
   "metadata": {},
   "outputs": [],
   "source": [
    "from keras.callbacks import ModelCheckpoint, EarlyStopping, Callback\n",
    "filepath=\"model.hdf5\"\n",
    "checkpoint = ModelCheckpoint(filepath, monitor='val_acc', save_best_only=True)\n",
    "earlystop = EarlyStopping(monitor='val_loss', patience=4)\n",
    "testcallback = TestCallback()\n",
    "callbacks_list = [checkpoint, earlystop, testcallback]"
   ]
  },
  {
   "cell_type": "code",
   "execution_count": 15,
   "metadata": {
    "collapsed": true
   },
   "outputs": [],
   "source": [
    "import tensorflow as tf\n",
    "from keras.backend.tensorflow_backend import set_session\n",
    "config = tf.ConfigProto()\n",
    "config.gpu_options.per_process_gpu_memory_fraction = 0.1\n",
    "set_session(tf.Session(config=config))"
   ]
  },
  {
   "cell_type": "code",
   "execution_count": 94,
   "metadata": {
    "collapsed": true
   },
   "outputs": [],
   "source": [
    "def data_generator(data, targets):\n",
    "    global train_data, train_label, batch_size, voacb_size, shuffle_cnt\n",
    "    idx = np.arange(len(data))\n",
    "    while True:\n",
    "        np.random.shuffle(idx)\n",
    "        shuffle_cnt += 1\n",
    "        batches = [idx[range(batch_size*i, min(len(data), batch_size*(i+1)))] for i in range(len(data)//batch_size+1)] \n",
    "        for i in batches:\n",
    "            #print (len(i))\n",
    "            xx, yy = [], []\n",
    "            for j in i:\n",
    "                # data[j] is id, target[j] is seq num\n",
    "                xx.append(train_data[data[j]])\n",
    "                yy.append(train_label[targets[j][0]]['seq'][targets[j][1]])\n",
    "            \n",
    "            xx = np.array(xx)\n",
    "            yy = to_categorical(yy, num_classes=vocab_size+1)\n",
    "            yield (xx, yy)"
   ]
  },
  {
   "cell_type": "code",
   "execution_count": 90,
   "metadata": {
    "collapsed": true
   },
   "outputs": [],
   "source": [
    "def validation_generator(data, targets):\n",
    "    global test_data, test_label, batch_size, voacb_size\n",
    "    idx = np.arange(len(data))\n",
    "    while True:\n",
    "        np.random.shuffle(idx)\n",
    "        batches = [idx[range(batch_size*i, min(len(data), batch_size*(i+1)))] for i in range(len(data)//batch_size+1)] \n",
    "        for i in batches:\n",
    "            #print (len(i))\n",
    "            xx, yy = [], []\n",
    "            for j in i:\n",
    "                # data[j] is id, target[j] is seq num\n",
    "                xx.append(test_data[data[j]])\n",
    "                yy.append(test_label[targets[j][0]]['seq'][targets[j][1]])\n",
    "            \n",
    "            xx = np.array(xx)\n",
    "            yy = to_categorical(yy, num_classes=vocab_size+1)\n",
    "            yield (xx, yy)"
   ]
  },
  {
   "cell_type": "code",
   "execution_count": 141,
   "metadata": {},
   "outputs": [
    {
     "name": "stdout",
     "output_type": "stream",
     "text": [
      "Epoch 1/50\n",
      "379/379 [==============================] - 55s 145ms/step - loss: 1.8544 - acc: 0.7020 - val_loss: 2.0443 - val_acc: 0.6951\n",
      "\n",
      "Testing score: 0.6627489185049348\n",
      "\n",
      "Epoch 2/50\n",
      "379/379 [==============================] - 55s 146ms/step - loss: 1.8234 - acc: 0.7035 - val_loss: 1.9973 - val_acc: 0.7013\n",
      "\n",
      "Testing score: 0.6634590015352906\n",
      "\n",
      "Epoch 3/50\n",
      "379/379 [==============================] - 55s 146ms/step - loss: 1.7950 - acc: 0.7044 - val_loss: 2.0438 - val_acc: 0.6975\n",
      "\n",
      "Testing score: 0.6897462392693298\n",
      "\n",
      "Epoch 4/50\n",
      "379/379 [==============================] - 53s 141ms/step - loss: 1.7682 - acc: 0.7053 - val_loss: 2.0496 - val_acc: 0.6961\n",
      "\n",
      "Testing score: 0.6784426622092363\n",
      "\n",
      "Epoch 5/50\n",
      "379/379 [==============================] - 54s 144ms/step - loss: 1.7443 - acc: 0.7060 - val_loss: 2.0607 - val_acc: 0.6955\n",
      "\n",
      "Testing score: 0.6724118636826002\n",
      "\n",
      "Epoch 6/50\n",
      "379/379 [==============================] - 56s 147ms/step - loss: 1.7205 - acc: 0.7070 - val_loss: 2.0591 - val_acc: 0.6963\n",
      "\n",
      "Testing score: 0.6844445613798159\n",
      "\n"
     ]
    }
   ],
   "source": [
    "history = model.fit_generator(data_generator(X, Y), steps_per_epoch=int((len(Y)+batch_size-1)/batch_size), \n",
    "                              validation_data=validation_generator(X_test, Y_test), \n",
    "                              validation_steps=int((len(Y_test)+batch_size-1)/batch_size),\n",
    "                              epochs=50, callbacks=callbacks_list)"
   ]
  },
  {
   "cell_type": "code",
   "execution_count": 138,
   "metadata": {},
   "outputs": [
    {
     "data": {
      "image/png": "[encoded data removed]",
      "text/plain": [
       "<Figure size 432x288 with 1 Axes>"
      ]
     },
     "metadata": {},
     "output_type": "display_data"
    }
   ],
   "source": [
    "plt.plot(history.history['loss'])\n",
    "plt.plot(history.history['val_loss'])\n",
    "plt.title('model loss')\n",
    "plt.ylabel('loss')\n",
    "plt.xlabel('epoch')\n",
    "plt.legend(['train', 'test'], loc='upper left')\n",
    "plt.show()"
   ]
  },
  {
   "cell_type": "code",
   "execution_count": 139,
   "metadata": {},
   "outputs": [
    {
     "data": {
      "image/png": "[encoded data removed]",
      "text/plain": [
       "<Figure size 432x288 with 1 Axes>"
      ]
     },
     "metadata": {},
     "output_type": "display_data"
    }
   ],
   "source": [
    "plt.plot(history.history['acc'])\n",
    "plt.plot(history.history['val_acc'])\n",
    "plt.title('model accuracy')\n",
    "plt.ylabel('accuracy')\n",
    "plt.xlabel('epoch')\n",
    "plt.legend(['train', 'test'], loc='upper left')\n",
    "plt.show()"
   ]
  }
 ],
 "metadata": {
  "kernelspec": {
   "display_name": "Python 3",
   "language": "python",
   "name": "python3"
  },
  "language_info": {
   "codemirror_mode": {
    "name": "ipython",
    "version": 3
   },
   "file_extension": ".py",
   "mimetype": "text/x-python",
   "name": "python",
   "nbconvert_exporter": "python",
   "pygments_lexer": "ipython3",
   "version": "3.5.2"
  }
 },
 "nbformat": 4,
 "nbformat_minor": 2
}
